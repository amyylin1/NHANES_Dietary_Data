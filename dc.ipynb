{
 "cells": [
  {
   "cell_type": "code",
   "execution_count": null,
   "metadata": {},
   "outputs": [],
   "source": [
    "import pandas as pd"
   ]
  },
  {
   "cell_type": "code",
   "execution_count": null,
   "metadata": {},
   "outputs": [
    {
     "data": {
      "text/html": [
       "<div>\n",
       "<style scoped>\n",
       "    .dataframe tbody tr th:only-of-type {\n",
       "        vertical-align: middle;\n",
       "    }\n",
       "\n",
       "    .dataframe tbody tr th {\n",
       "        vertical-align: top;\n",
       "    }\n",
       "\n",
       "    .dataframe thead th {\n",
       "        text-align: right;\n",
       "    }\n",
       "</style>\n",
       "<table border=\"1\" class=\"dataframe\">\n",
       "  <thead>\n",
       "    <tr style=\"text-align: right;\">\n",
       "      <th></th>\n",
       "      <th>SEQN</th>\n",
       "      <th>FFQ_VAR</th>\n",
       "      <th>FFQ_FOOD</th>\n",
       "      <th>FFQ_FREQ</th>\n",
       "      <th>FFQ_CODE</th>\n",
       "    </tr>\n",
       "  </thead>\n",
       "  <tbody>\n",
       "    <tr>\n",
       "      <th>0</th>\n",
       "      <td>31129.0</td>\n",
       "      <td>1.0</td>\n",
       "      <td>130.0</td>\n",
       "      <td>5.397605e-79</td>\n",
       "      <td>b'0'</td>\n",
       "    </tr>\n",
       "    <tr>\n",
       "      <th>1</th>\n",
       "      <td>31129.0</td>\n",
       "      <td>2.0</td>\n",
       "      <td>128.0</td>\n",
       "      <td>5.000000e-01</td>\n",
       "      <td>b'0'</td>\n",
       "    </tr>\n",
       "    <tr>\n",
       "      <th>2</th>\n",
       "      <td>31129.0</td>\n",
       "      <td>3.0</td>\n",
       "      <td>129.0</td>\n",
       "      <td>7.900000e-01</td>\n",
       "      <td>b'0'</td>\n",
       "    </tr>\n",
       "    <tr>\n",
       "      <th>3</th>\n",
       "      <td>31129.0</td>\n",
       "      <td>4.0</td>\n",
       "      <td>184.0</td>\n",
       "      <td>2.500000e+00</td>\n",
       "      <td>b'0'</td>\n",
       "    </tr>\n",
       "    <tr>\n",
       "      <th>4</th>\n",
       "      <td>31129.0</td>\n",
       "      <td>5.0</td>\n",
       "      <td>12.0</td>\n",
       "      <td>7.900000e-01</td>\n",
       "      <td>b'0'</td>\n",
       "    </tr>\n",
       "    <tr>\n",
       "      <th>...</th>\n",
       "      <td>...</td>\n",
       "      <td>...</td>\n",
       "      <td>...</td>\n",
       "      <td>...</td>\n",
       "      <td>...</td>\n",
       "    </tr>\n",
       "    <tr>\n",
       "      <th>1019116</th>\n",
       "      <td>41474.0</td>\n",
       "      <td>149.0</td>\n",
       "      <td>33.0</td>\n",
       "      <td>6.000000e-02</td>\n",
       "      <td>b'0'</td>\n",
       "    </tr>\n",
       "    <tr>\n",
       "      <th>1019117</th>\n",
       "      <td>41474.0</td>\n",
       "      <td>150.0</td>\n",
       "      <td>28.0</td>\n",
       "      <td>2.000000e-02</td>\n",
       "      <td>b'0'</td>\n",
       "    </tr>\n",
       "    <tr>\n",
       "      <th>1019118</th>\n",
       "      <td>41474.0</td>\n",
       "      <td>150.0</td>\n",
       "      <td>29.0</td>\n",
       "      <td>6.000000e-02</td>\n",
       "      <td>b'0'</td>\n",
       "    </tr>\n",
       "    <tr>\n",
       "      <th>1019119</th>\n",
       "      <td>41474.0</td>\n",
       "      <td>151.0</td>\n",
       "      <td>167.0</td>\n",
       "      <td>1.000000e-02</td>\n",
       "      <td>b'0'</td>\n",
       "    </tr>\n",
       "    <tr>\n",
       "      <th>1019120</th>\n",
       "      <td>41474.0</td>\n",
       "      <td>152.0</td>\n",
       "      <td>163.0</td>\n",
       "      <td>2.900000e-01</td>\n",
       "      <td>b'0'</td>\n",
       "    </tr>\n",
       "  </tbody>\n",
       "</table>\n",
       "<p>1019121 rows × 5 columns</p>\n",
       "</div>"
      ],
      "text/plain": [
       "            SEQN  FFQ_VAR  FFQ_FOOD      FFQ_FREQ FFQ_CODE\n",
       "0        31129.0      1.0     130.0  5.397605e-79     b'0'\n",
       "1        31129.0      2.0     128.0  5.000000e-01     b'0'\n",
       "2        31129.0      3.0     129.0  7.900000e-01     b'0'\n",
       "3        31129.0      4.0     184.0  2.500000e+00     b'0'\n",
       "4        31129.0      5.0      12.0  7.900000e-01     b'0'\n",
       "...          ...      ...       ...           ...      ...\n",
       "1019116  41474.0    149.0      33.0  6.000000e-02     b'0'\n",
       "1019117  41474.0    150.0      28.0  2.000000e-02     b'0'\n",
       "1019118  41474.0    150.0      29.0  6.000000e-02     b'0'\n",
       "1019119  41474.0    151.0     167.0  1.000000e-02     b'0'\n",
       "1019120  41474.0    152.0     163.0  2.900000e-01     b'0'\n",
       "\n",
       "[1019121 rows x 5 columns]"
      ]
     },
     "metadata": {},
     "output_type": "display_data"
    }
   ],
   "source": [
    "ff = pd.read_sas('resources/FFQDC_D.XPT')\n",
    "ff"
   ]
  },
  {
   "cell_type": "code",
   "execution_count": null,
   "metadata": {},
   "outputs": [
    {
     "data": {
      "text/plain": [
       "1019121"
      ]
     },
     "metadata": {},
     "output_type": "display_data"
    }
   ],
   "source": [
    "len(ff)"
   ]
  },
  {
   "cell_type": "code",
   "execution_count": null,
   "metadata": {},
   "outputs": [
    {
     "data": {
      "text/plain": [
       "Index(['SEQN', 'FFQ_VAR', 'FFQ_FOOD', 'FFQ_FREQ', 'FFQ_CODE'], dtype='object')"
      ]
     },
     "metadata": {},
     "output_type": "display_data"
    }
   ],
   "source": [
    "ff.columns"
   ]
  },
  {
   "cell_type": "code",
   "execution_count": null,
   "metadata": {},
   "outputs": [
    {
     "data": {
      "text/html": [
       "<div>\n",
       "<style scoped>\n",
       "    .dataframe tbody tr th:only-of-type {\n",
       "        vertical-align: middle;\n",
       "    }\n",
       "\n",
       "    .dataframe tbody tr th {\n",
       "        vertical-align: top;\n",
       "    }\n",
       "\n",
       "    .dataframe thead th {\n",
       "        text-align: right;\n",
       "    }\n",
       "</style>\n",
       "<table border=\"1\" class=\"dataframe\">\n",
       "  <thead>\n",
       "    <tr style=\"text-align: right;\">\n",
       "      <th></th>\n",
       "      <th>response seq. #</th>\n",
       "      <th>variable id</th>\n",
       "      <th>food id</th>\n",
       "      <th>daily freq</th>\n",
       "      <th>dialy intake freq. imputation code</th>\n",
       "    </tr>\n",
       "  </thead>\n",
       "  <tbody>\n",
       "    <tr>\n",
       "      <th>0</th>\n",
       "      <td>31129.0</td>\n",
       "      <td>1.0</td>\n",
       "      <td>130.0</td>\n",
       "      <td>5.397605e-79</td>\n",
       "      <td>b'0'</td>\n",
       "    </tr>\n",
       "    <tr>\n",
       "      <th>1</th>\n",
       "      <td>31129.0</td>\n",
       "      <td>2.0</td>\n",
       "      <td>128.0</td>\n",
       "      <td>5.000000e-01</td>\n",
       "      <td>b'0'</td>\n",
       "    </tr>\n",
       "    <tr>\n",
       "      <th>2</th>\n",
       "      <td>31129.0</td>\n",
       "      <td>3.0</td>\n",
       "      <td>129.0</td>\n",
       "      <td>7.900000e-01</td>\n",
       "      <td>b'0'</td>\n",
       "    </tr>\n",
       "    <tr>\n",
       "      <th>3</th>\n",
       "      <td>31129.0</td>\n",
       "      <td>4.0</td>\n",
       "      <td>184.0</td>\n",
       "      <td>2.500000e+00</td>\n",
       "      <td>b'0'</td>\n",
       "    </tr>\n",
       "    <tr>\n",
       "      <th>4</th>\n",
       "      <td>31129.0</td>\n",
       "      <td>5.0</td>\n",
       "      <td>12.0</td>\n",
       "      <td>7.900000e-01</td>\n",
       "      <td>b'0'</td>\n",
       "    </tr>\n",
       "    <tr>\n",
       "      <th>...</th>\n",
       "      <td>...</td>\n",
       "      <td>...</td>\n",
       "      <td>...</td>\n",
       "      <td>...</td>\n",
       "      <td>...</td>\n",
       "    </tr>\n",
       "    <tr>\n",
       "      <th>1019116</th>\n",
       "      <td>41474.0</td>\n",
       "      <td>149.0</td>\n",
       "      <td>33.0</td>\n",
       "      <td>6.000000e-02</td>\n",
       "      <td>b'0'</td>\n",
       "    </tr>\n",
       "    <tr>\n",
       "      <th>1019117</th>\n",
       "      <td>41474.0</td>\n",
       "      <td>150.0</td>\n",
       "      <td>28.0</td>\n",
       "      <td>2.000000e-02</td>\n",
       "      <td>b'0'</td>\n",
       "    </tr>\n",
       "    <tr>\n",
       "      <th>1019118</th>\n",
       "      <td>41474.0</td>\n",
       "      <td>150.0</td>\n",
       "      <td>29.0</td>\n",
       "      <td>6.000000e-02</td>\n",
       "      <td>b'0'</td>\n",
       "    </tr>\n",
       "    <tr>\n",
       "      <th>1019119</th>\n",
       "      <td>41474.0</td>\n",
       "      <td>151.0</td>\n",
       "      <td>167.0</td>\n",
       "      <td>1.000000e-02</td>\n",
       "      <td>b'0'</td>\n",
       "    </tr>\n",
       "    <tr>\n",
       "      <th>1019120</th>\n",
       "      <td>41474.0</td>\n",
       "      <td>152.0</td>\n",
       "      <td>163.0</td>\n",
       "      <td>2.900000e-01</td>\n",
       "      <td>b'0'</td>\n",
       "    </tr>\n",
       "  </tbody>\n",
       "</table>\n",
       "<p>1019121 rows × 5 columns</p>\n",
       "</div>"
      ],
      "text/plain": [
       "         response seq. #  variable id  food id    daily freq  \\\n",
       "0                31129.0          1.0    130.0  5.397605e-79   \n",
       "1                31129.0          2.0    128.0  5.000000e-01   \n",
       "2                31129.0          3.0    129.0  7.900000e-01   \n",
       "3                31129.0          4.0    184.0  2.500000e+00   \n",
       "4                31129.0          5.0     12.0  7.900000e-01   \n",
       "...                  ...          ...      ...           ...   \n",
       "1019116          41474.0        149.0     33.0  6.000000e-02   \n",
       "1019117          41474.0        150.0     28.0  2.000000e-02   \n",
       "1019118          41474.0        150.0     29.0  6.000000e-02   \n",
       "1019119          41474.0        151.0    167.0  1.000000e-02   \n",
       "1019120          41474.0        152.0    163.0  2.900000e-01   \n",
       "\n",
       "        dialy intake freq. imputation code  \n",
       "0                                     b'0'  \n",
       "1                                     b'0'  \n",
       "2                                     b'0'  \n",
       "3                                     b'0'  \n",
       "4                                     b'0'  \n",
       "...                                    ...  \n",
       "1019116                               b'0'  \n",
       "1019117                               b'0'  \n",
       "1019118                               b'0'  \n",
       "1019119                               b'0'  \n",
       "1019120                               b'0'  \n",
       "\n",
       "[1019121 rows x 5 columns]"
      ]
     },
     "metadata": {},
     "output_type": "display_data"
    }
   ],
   "source": [
    "ff = ff.rename(columns={\n",
    "    'SEQN':'response seq. #',\n",
    "    'FFQ_VAR':'variable id',\n",
    "    'FFQ_FOOD':'food id',\n",
    "    'FFQ_FREQ':'daily freq',\n",
    "    'FFQ_CODE':'dialy intake freq. imputation code'\n",
    "})\n",
    "ff"
   ]
  },
  {
   "cell_type": "code",
   "execution_count": null,
   "metadata": {},
   "outputs": [
    {
     "data": {
      "text/plain": [
       "array([31129., 31131., 31132., ..., 41468., 41472., 41474.])"
      ]
     },
     "metadata": {},
     "output_type": "display_data"
    }
   ],
   "source": [
    "ff['response seq. #'].unique()"
   ]
  },
  {
   "cell_type": "code",
   "execution_count": null,
   "metadata": {},
   "outputs": [
    {
     "data": {
      "text/plain": [
       "36221.0    210\n",
       "31835.0    209\n",
       "31734.0    209\n",
       "36307.0    207\n",
       "40614.0    206\n",
       "          ... \n",
       "34531.0    152\n",
       "31478.0    152\n",
       "31591.0    152\n",
       "39619.0    152\n",
       "39040.0    152\n",
       "Name: response seq. #, Length: 6011, dtype: int64"
      ]
     },
     "metadata": {},
     "output_type": "display_data"
    }
   ],
   "source": [
    "ff['response seq. #'].value_counts()"
   ]
  }
 ],
 "metadata": {
  "language_info": {
   "name": "python"
  },
  "orig_nbformat": 4
 },
 "nbformat": 4,
 "nbformat_minor": 2
}
