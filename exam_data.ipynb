{
 "cells": [
  {
   "attachments": {},
   "cell_type": "markdown",
   "metadata": {},
   "source": [
    "# National Health and Nutrition Examination Survey\n",
    "- 2005-2006 Data Documentation, Codebook, and Frequencies\n",
    "\n",
    "## 1. Cholesterol - Total (TCHOL_D)\n",
    "- Data File: TCHOL_D.xpt\n",
    "-https://wwwn.cdc.gov/Nchs/Nhanes/2005-2006/TCHOL_D.htm#SEQN"
   ]
  },
  {
   "cell_type": "code",
   "execution_count": 1,
   "metadata": {},
   "outputs": [],
   "source": [
    "import pandas as pd\n",
    "import numpy as np\n",
    "import matplotlib.pyplot as plt\n",
    "import seaborn as sns"
   ]
  },
  {
   "cell_type": "code",
   "execution_count": 2,
   "metadata": {},
   "outputs": [
    {
     "data": {
      "text/html": [
       "<div>\n",
       "<style scoped>\n",
       "    .dataframe tbody tr th:only-of-type {\n",
       "        vertical-align: middle;\n",
       "    }\n",
       "\n",
       "    .dataframe tbody tr th {\n",
       "        vertical-align: top;\n",
       "    }\n",
       "\n",
       "    .dataframe thead th {\n",
       "        text-align: right;\n",
       "    }\n",
       "</style>\n",
       "<table border=\"1\" class=\"dataframe\">\n",
       "  <thead>\n",
       "    <tr style=\"text-align: right;\">\n",
       "      <th></th>\n",
       "      <th>SEQN</th>\n",
       "      <th>LBXTC</th>\n",
       "      <th>LBDTCSI</th>\n",
       "    </tr>\n",
       "  </thead>\n",
       "  <tbody>\n",
       "    <tr>\n",
       "      <th>0</th>\n",
       "      <td>31128.0</td>\n",
       "      <td>129.0</td>\n",
       "      <td>3.34</td>\n",
       "    </tr>\n",
       "    <tr>\n",
       "      <th>1</th>\n",
       "      <td>31129.0</td>\n",
       "      <td>170.0</td>\n",
       "      <td>4.40</td>\n",
       "    </tr>\n",
       "    <tr>\n",
       "      <th>2</th>\n",
       "      <td>31130.0</td>\n",
       "      <td>NaN</td>\n",
       "      <td>NaN</td>\n",
       "    </tr>\n",
       "    <tr>\n",
       "      <th>3</th>\n",
       "      <td>31131.0</td>\n",
       "      <td>105.0</td>\n",
       "      <td>2.72</td>\n",
       "    </tr>\n",
       "    <tr>\n",
       "      <th>4</th>\n",
       "      <td>31132.0</td>\n",
       "      <td>147.0</td>\n",
       "      <td>3.80</td>\n",
       "    </tr>\n",
       "  </tbody>\n",
       "</table>\n",
       "</div>"
      ],
      "text/plain": [
       "      SEQN  LBXTC  LBDTCSI\n",
       "0  31128.0  129.0     3.34\n",
       "1  31129.0  170.0     4.40\n",
       "2  31130.0    NaN      NaN\n",
       "3  31131.0  105.0     2.72\n",
       "4  31132.0  147.0     3.80"
      ]
     },
     "execution_count": 2,
     "metadata": {},
     "output_type": "execute_result"
    }
   ],
   "source": [
    "# open\n",
    "tc= pd.read_sas('resources/TCHOL_D.XPT')\n",
    "tc.head()"
   ]
  },
  {
   "cell_type": "code",
   "execution_count": 3,
   "metadata": {},
   "outputs": [
    {
     "data": {
      "text/plain": [
       "8086"
      ]
     },
     "execution_count": 3,
     "metadata": {},
     "output_type": "execute_result"
    }
   ],
   "source": [
    "# length of the df\n",
    "len(tc)"
   ]
  },
  {
   "cell_type": "code",
   "execution_count": 4,
   "metadata": {},
   "outputs": [
    {
     "data": {
      "text/plain": [
       "Index(['SEQN', 'LBXTC', 'LBDTCSI'], dtype='object')"
      ]
     },
     "execution_count": 4,
     "metadata": {},
     "output_type": "execute_result"
    }
   ],
   "source": [
    "# cols in the df\n",
    "tc.columns"
   ]
  },
  {
   "cell_type": "code",
   "execution_count": 5,
   "metadata": {},
   "outputs": [
    {
     "data": {
      "text/html": [
       "<div>\n",
       "<style scoped>\n",
       "    .dataframe tbody tr th:only-of-type {\n",
       "        vertical-align: middle;\n",
       "    }\n",
       "\n",
       "    .dataframe tbody tr th {\n",
       "        vertical-align: top;\n",
       "    }\n",
       "\n",
       "    .dataframe thead th {\n",
       "        text-align: right;\n",
       "    }\n",
       "</style>\n",
       "<table border=\"1\" class=\"dataframe\">\n",
       "  <thead>\n",
       "    <tr style=\"text-align: right;\">\n",
       "      <th></th>\n",
       "      <th>Respondent sequence number</th>\n",
       "      <th>Total cholesterol (mg/dL)</th>\n",
       "      <th>LBDTCSI</th>\n",
       "    </tr>\n",
       "  </thead>\n",
       "  <tbody>\n",
       "    <tr>\n",
       "      <th>0</th>\n",
       "      <td>31128.0</td>\n",
       "      <td>129.0</td>\n",
       "      <td>3.34</td>\n",
       "    </tr>\n",
       "    <tr>\n",
       "      <th>1</th>\n",
       "      <td>31129.0</td>\n",
       "      <td>170.0</td>\n",
       "      <td>4.40</td>\n",
       "    </tr>\n",
       "    <tr>\n",
       "      <th>2</th>\n",
       "      <td>31130.0</td>\n",
       "      <td>NaN</td>\n",
       "      <td>NaN</td>\n",
       "    </tr>\n",
       "    <tr>\n",
       "      <th>3</th>\n",
       "      <td>31131.0</td>\n",
       "      <td>105.0</td>\n",
       "      <td>2.72</td>\n",
       "    </tr>\n",
       "    <tr>\n",
       "      <th>4</th>\n",
       "      <td>31132.0</td>\n",
       "      <td>147.0</td>\n",
       "      <td>3.80</td>\n",
       "    </tr>\n",
       "  </tbody>\n",
       "</table>\n",
       "</div>"
      ],
      "text/plain": [
       "   Respondent sequence number  Total cholesterol (mg/dL)  LBDTCSI\n",
       "0                     31128.0                      129.0     3.34\n",
       "1                     31129.0                      170.0     4.40\n",
       "2                     31130.0                        NaN      NaN\n",
       "3                     31131.0                      105.0     2.72\n",
       "4                     31132.0                      147.0     3.80"
      ]
     },
     "execution_count": 5,
     "metadata": {},
     "output_type": "execute_result"
    }
   ],
   "source": [
    "# rename\n",
    "tc = tc.rename(columns={\n",
    "       'SEQN':'Respondent sequence number',\n",
    "       'LBXTC':'Total cholesterol (mg/dL)'\n",
    "})\n",
    "tc.head()"
   ]
  },
  {
   "cell_type": "code",
   "execution_count": 6,
   "metadata": {},
   "outputs": [
    {
     "data": {
      "text/html": [
       "<div>\n",
       "<style scoped>\n",
       "    .dataframe tbody tr th:only-of-type {\n",
       "        vertical-align: middle;\n",
       "    }\n",
       "\n",
       "    .dataframe tbody tr th {\n",
       "        vertical-align: top;\n",
       "    }\n",
       "\n",
       "    .dataframe thead th {\n",
       "        text-align: right;\n",
       "    }\n",
       "</style>\n",
       "<table border=\"1\" class=\"dataframe\">\n",
       "  <thead>\n",
       "    <tr style=\"text-align: right;\">\n",
       "      <th></th>\n",
       "      <th>Respondent sequence number</th>\n",
       "      <th>Total cholesterol (mg/dL)</th>\n",
       "    </tr>\n",
       "  </thead>\n",
       "  <tbody>\n",
       "    <tr>\n",
       "      <th>0</th>\n",
       "      <td>31128.0</td>\n",
       "      <td>129.0</td>\n",
       "    </tr>\n",
       "    <tr>\n",
       "      <th>1</th>\n",
       "      <td>31129.0</td>\n",
       "      <td>170.0</td>\n",
       "    </tr>\n",
       "    <tr>\n",
       "      <th>2</th>\n",
       "      <td>31130.0</td>\n",
       "      <td>NaN</td>\n",
       "    </tr>\n",
       "    <tr>\n",
       "      <th>3</th>\n",
       "      <td>31131.0</td>\n",
       "      <td>105.0</td>\n",
       "    </tr>\n",
       "    <tr>\n",
       "      <th>4</th>\n",
       "      <td>31132.0</td>\n",
       "      <td>147.0</td>\n",
       "    </tr>\n",
       "  </tbody>\n",
       "</table>\n",
       "</div>"
      ],
      "text/plain": [
       "   Respondent sequence number  Total cholesterol (mg/dL)\n",
       "0                     31128.0                      129.0\n",
       "1                     31129.0                      170.0\n",
       "2                     31130.0                        NaN\n",
       "3                     31131.0                      105.0\n",
       "4                     31132.0                      147.0"
      ]
     },
     "execution_count": 6,
     "metadata": {},
     "output_type": "execute_result"
    }
   ],
   "source": [
    "# drop the col.\n",
    "tc1 = tc.drop(['LBDTCSI'], axis=1)\n",
    "tc1.head()"
   ]
  },
  {
   "cell_type": "code",
   "execution_count": 7,
   "metadata": {},
   "outputs": [
    {
     "data": {
      "text/plain": [
       "163.0    94\n",
       "162.0    88\n",
       "168.0    86\n",
       "174.0    84\n",
       "166.0    83\n",
       "         ..\n",
       "90.0      1\n",
       "366.0     1\n",
       "337.0     1\n",
       "309.0     1\n",
       "78.0      1\n",
       "Name: Total cholesterol (mg/dL), Length: 266, dtype: int64"
      ]
     },
     "execution_count": 7,
     "metadata": {},
     "output_type": "execute_result"
    }
   ],
   "source": [
    "# value_counts() the total cholesterol\n",
    "count_tc = tc1['Total cholesterol (mg/dL)'].value_counts()\n",
    "count_tc"
   ]
  },
  {
   "cell_type": "code",
   "execution_count": 8,
   "metadata": {},
   "outputs": [
    {
     "data": {
      "text/plain": [
       "count    7360.000000\n",
       "mean      184.471060\n",
       "std        42.844203\n",
       "min        78.000000\n",
       "25%       155.000000\n",
       "50%       179.000000\n",
       "75%       209.000000\n",
       "max       615.000000\n",
       "Name: Total cholesterol (mg/dL), dtype: float64"
      ]
     },
     "execution_count": 8,
     "metadata": {},
     "output_type": "execute_result"
    }
   ],
   "source": [
    "# summary stat\n",
    "tc1['Total cholesterol (mg/dL)'].describe()"
   ]
  },
  {
   "cell_type": "code",
   "execution_count": 9,
   "metadata": {},
   "outputs": [
    {
     "data": {
      "text/plain": [
       "<AxesSubplot:xlabel='Total cholesterol (mg/dL)', ylabel='Count'>"
      ]
     },
     "execution_count": 9,
     "metadata": {},
     "output_type": "execute_result"
    },
    {
     "data": {
      "image/png": "[encoded data removed]",
      "text/plain": [
       "<Figure size 432x288 with 1 Axes>"
      ]
     },
     "metadata": {
      "needs_background": "light"
     },
     "output_type": "display_data"
    }
   ],
   "source": [
    "# histogram\n",
    "sns.histplot(tc1['Total cholesterol (mg/dL)'],\n",
    "             bins=100, element='bars', binwidth=3, kde=True)"
   ]
  },
  {
   "attachments": {},
   "cell_type": "markdown",
   "metadata": {},
   "source": [
    "---\n",
    "## 2. Cholesterol - HDL (HDL_D)\n",
    "- Data File: HDL_D.xpt\n",
    "- https://wwwn.cdc.gov/Nchs/Nhanes/2005-2006/HDL_D.htm"
   ]
  },
  {
   "cell_type": "code",
   "execution_count": 10,
   "metadata": {},
   "outputs": [
    {
     "data": {
      "text/html": [
       "<div>\n",
       "<style scoped>\n",
       "    .dataframe tbody tr th:only-of-type {\n",
       "        vertical-align: middle;\n",
       "    }\n",
       "\n",
       "    .dataframe tbody tr th {\n",
       "        vertical-align: top;\n",
       "    }\n",
       "\n",
       "    .dataframe thead th {\n",
       "        text-align: right;\n",
       "    }\n",
       "</style>\n",
       "<table border=\"1\" class=\"dataframe\">\n",
       "  <thead>\n",
       "    <tr style=\"text-align: right;\">\n",
       "      <th></th>\n",
       "      <th>SEQN</th>\n",
       "      <th>LBDHDD</th>\n",
       "      <th>LBDHDDSI</th>\n",
       "    </tr>\n",
       "  </thead>\n",
       "  <tbody>\n",
       "    <tr>\n",
       "      <th>0</th>\n",
       "      <td>31128.0</td>\n",
       "      <td>55.0</td>\n",
       "      <td>1.42</td>\n",
       "    </tr>\n",
       "    <tr>\n",
       "      <th>1</th>\n",
       "      <td>31129.0</td>\n",
       "      <td>46.0</td>\n",
       "      <td>1.19</td>\n",
       "    </tr>\n",
       "    <tr>\n",
       "      <th>2</th>\n",
       "      <td>31130.0</td>\n",
       "      <td>NaN</td>\n",
       "      <td>NaN</td>\n",
       "    </tr>\n",
       "    <tr>\n",
       "      <th>3</th>\n",
       "      <td>31131.0</td>\n",
       "      <td>39.0</td>\n",
       "      <td>1.01</td>\n",
       "    </tr>\n",
       "    <tr>\n",
       "      <th>4</th>\n",
       "      <td>31132.0</td>\n",
       "      <td>59.0</td>\n",
       "      <td>1.53</td>\n",
       "    </tr>\n",
       "  </tbody>\n",
       "</table>\n",
       "</div>"
      ],
      "text/plain": [
       "      SEQN  LBDHDD  LBDHDDSI\n",
       "0  31128.0    55.0      1.42\n",
       "1  31129.0    46.0      1.19\n",
       "2  31130.0     NaN       NaN\n",
       "3  31131.0    39.0      1.01\n",
       "4  31132.0    59.0      1.53"
      ]
     },
     "execution_count": 10,
     "metadata": {},
     "output_type": "execute_result"
    }
   ],
   "source": [
    "# open\n",
    "hdl = pd.read_sas('resources/HDL_D.XPT')\n",
    "hdl.head()"
   ]
  },
  {
   "cell_type": "code",
   "execution_count": 11,
   "metadata": {},
   "outputs": [
    {
     "data": {
      "text/plain": [
       "8086"
      ]
     },
     "execution_count": 11,
     "metadata": {},
     "output_type": "execute_result"
    }
   ],
   "source": [
    "# length of df\n",
    "len(hdl)"
   ]
  },
  {
   "cell_type": "code",
   "execution_count": 12,
   "metadata": {},
   "outputs": [
    {
     "data": {
      "text/html": [
       "<div>\n",
       "<style scoped>\n",
       "    .dataframe tbody tr th:only-of-type {\n",
       "        vertical-align: middle;\n",
       "    }\n",
       "\n",
       "    .dataframe tbody tr th {\n",
       "        vertical-align: top;\n",
       "    }\n",
       "\n",
       "    .dataframe thead th {\n",
       "        text-align: right;\n",
       "    }\n",
       "</style>\n",
       "<table border=\"1\" class=\"dataframe\">\n",
       "  <thead>\n",
       "    <tr style=\"text-align: right;\">\n",
       "      <th></th>\n",
       "      <th>Respondent sequence number</th>\n",
       "      <th>Direct HDL-Cholesterol (mg/dL)</th>\n",
       "      <th>LBDHDDSI</th>\n",
       "    </tr>\n",
       "  </thead>\n",
       "  <tbody>\n",
       "    <tr>\n",
       "      <th>0</th>\n",
       "      <td>31128.0</td>\n",
       "      <td>55.0</td>\n",
       "      <td>1.42</td>\n",
       "    </tr>\n",
       "    <tr>\n",
       "      <th>1</th>\n",
       "      <td>31129.0</td>\n",
       "      <td>46.0</td>\n",
       "      <td>1.19</td>\n",
       "    </tr>\n",
       "    <tr>\n",
       "      <th>2</th>\n",
       "      <td>31130.0</td>\n",
       "      <td>NaN</td>\n",
       "      <td>NaN</td>\n",
       "    </tr>\n",
       "    <tr>\n",
       "      <th>3</th>\n",
       "      <td>31131.0</td>\n",
       "      <td>39.0</td>\n",
       "      <td>1.01</td>\n",
       "    </tr>\n",
       "    <tr>\n",
       "      <th>4</th>\n",
       "      <td>31132.0</td>\n",
       "      <td>59.0</td>\n",
       "      <td>1.53</td>\n",
       "    </tr>\n",
       "  </tbody>\n",
       "</table>\n",
       "</div>"
      ],
      "text/plain": [
       "   Respondent sequence number  Direct HDL-Cholesterol (mg/dL)  LBDHDDSI\n",
       "0                     31128.0                            55.0      1.42\n",
       "1                     31129.0                            46.0      1.19\n",
       "2                     31130.0                             NaN       NaN\n",
       "3                     31131.0                            39.0      1.01\n",
       "4                     31132.0                            59.0      1.53"
      ]
     },
     "execution_count": 12,
     "metadata": {},
     "output_type": "execute_result"
    }
   ],
   "source": [
    "# rename cols.\n",
    "hdl = hdl.rename(columns={\n",
    "       'SEQN':'Respondent sequence number',\n",
    "       'LBDHDD':'Direct HDL-Cholesterol (mg/dL)'\n",
    "})\n",
    "hdl.head()"
   ]
  },
  {
   "cell_type": "code",
   "execution_count": 13,
   "metadata": {},
   "outputs": [
    {
     "data": {
      "text/html": [
       "<div>\n",
       "<style scoped>\n",
       "    .dataframe tbody tr th:only-of-type {\n",
       "        vertical-align: middle;\n",
       "    }\n",
       "\n",
       "    .dataframe tbody tr th {\n",
       "        vertical-align: top;\n",
       "    }\n",
       "\n",
       "    .dataframe thead th {\n",
       "        text-align: right;\n",
       "    }\n",
       "</style>\n",
       "<table border=\"1\" class=\"dataframe\">\n",
       "  <thead>\n",
       "    <tr style=\"text-align: right;\">\n",
       "      <th></th>\n",
       "      <th>Respondent sequence number</th>\n",
       "      <th>Direct HDL-Cholesterol (mg/dL)</th>\n",
       "    </tr>\n",
       "  </thead>\n",
       "  <tbody>\n",
       "    <tr>\n",
       "      <th>0</th>\n",
       "      <td>31128.0</td>\n",
       "      <td>55.0</td>\n",
       "    </tr>\n",
       "    <tr>\n",
       "      <th>1</th>\n",
       "      <td>31129.0</td>\n",
       "      <td>46.0</td>\n",
       "    </tr>\n",
       "    <tr>\n",
       "      <th>2</th>\n",
       "      <td>31130.0</td>\n",
       "      <td>NaN</td>\n",
       "    </tr>\n",
       "    <tr>\n",
       "      <th>3</th>\n",
       "      <td>31131.0</td>\n",
       "      <td>39.0</td>\n",
       "    </tr>\n",
       "    <tr>\n",
       "      <th>4</th>\n",
       "      <td>31132.0</td>\n",
       "      <td>59.0</td>\n",
       "    </tr>\n",
       "  </tbody>\n",
       "</table>\n",
       "</div>"
      ],
      "text/plain": [
       "   Respondent sequence number  Direct HDL-Cholesterol (mg/dL)\n",
       "0                     31128.0                            55.0\n",
       "1                     31129.0                            46.0\n",
       "2                     31130.0                             NaN\n",
       "3                     31131.0                            39.0\n",
       "4                     31132.0                            59.0"
      ]
     },
     "execution_count": 13,
     "metadata": {},
     "output_type": "execute_result"
    }
   ],
   "source": [
    "# drop a col\n",
    "hdl = hdl.drop(['LBDHDDSI'], axis=1)\n",
    "hdl.head()"
   ]
  },
  {
   "cell_type": "code",
   "execution_count": 14,
   "metadata": {},
   "outputs": [
    {
     "data": {
      "text/plain": [
       "count    7360.000000\n",
       "mean       54.781929\n",
       "std        15.476290\n",
       "min        15.000000\n",
       "25%        43.000000\n",
       "50%        52.000000\n",
       "75%        63.000000\n",
       "max       188.000000\n",
       "Name: Direct HDL-Cholesterol (mg/dL), dtype: float64"
      ]
     },
     "execution_count": 14,
     "metadata": {},
     "output_type": "execute_result"
    }
   ],
   "source": [
    "# summary stat\n",
    "hdl['Direct HDL-Cholesterol (mg/dL)'].describe()"
   ]
  },
  {
   "cell_type": "code",
   "execution_count": 15,
   "metadata": {},
   "outputs": [
    {
     "data": {
      "text/plain": [
       "<AxesSubplot:xlabel='Direct HDL-Cholesterol (mg/dL)', ylabel='Count'>"
      ]
     },
     "execution_count": 15,
     "metadata": {},
     "output_type": "execute_result"
    },
    {
     "data": {
      "image/png": "[encoded data removed]",
      "text/plain": [
       "<Figure size 432x288 with 1 Axes>"
      ]
     },
     "metadata": {
      "needs_background": "light"
     },
     "output_type": "display_data"
    }
   ],
   "source": [
    "# histogram\n",
    "sns.histplot(hdl['Direct HDL-Cholesterol (mg/dL)'],\n",
    "             bins=100, element='bars', binwidth=3, kde=True)"
   ]
  },
  {
   "attachments": {},
   "cell_type": "markdown",
   "metadata": {},
   "source": [
    "---\n",
    "### merge totol cholesterol with hdl"
   ]
  },
  {
   "cell_type": "code",
   "execution_count": 16,
   "metadata": {},
   "outputs": [
    {
     "data": {
      "text/html": [
       "<div>\n",
       "<style scoped>\n",
       "    .dataframe tbody tr th:only-of-type {\n",
       "        vertical-align: middle;\n",
       "    }\n",
       "\n",
       "    .dataframe tbody tr th {\n",
       "        vertical-align: top;\n",
       "    }\n",
       "\n",
       "    .dataframe thead th {\n",
       "        text-align: right;\n",
       "    }\n",
       "</style>\n",
       "<table border=\"1\" class=\"dataframe\">\n",
       "  <thead>\n",
       "    <tr style=\"text-align: right;\">\n",
       "      <th></th>\n",
       "      <th>Respondent sequence number</th>\n",
       "      <th>Total cholesterol (mg/dL)</th>\n",
       "      <th>Direct HDL-Cholesterol (mg/dL)</th>\n",
       "    </tr>\n",
       "  </thead>\n",
       "  <tbody>\n",
       "    <tr>\n",
       "      <th>0</th>\n",
       "      <td>31128.0</td>\n",
       "      <td>129.0</td>\n",
       "      <td>55.0</td>\n",
       "    </tr>\n",
       "    <tr>\n",
       "      <th>1</th>\n",
       "      <td>31129.0</td>\n",
       "      <td>170.0</td>\n",
       "      <td>46.0</td>\n",
       "    </tr>\n",
       "    <tr>\n",
       "      <th>2</th>\n",
       "      <td>31130.0</td>\n",
       "      <td>NaN</td>\n",
       "      <td>NaN</td>\n",
       "    </tr>\n",
       "    <tr>\n",
       "      <th>3</th>\n",
       "      <td>31131.0</td>\n",
       "      <td>105.0</td>\n",
       "      <td>39.0</td>\n",
       "    </tr>\n",
       "    <tr>\n",
       "      <th>4</th>\n",
       "      <td>31132.0</td>\n",
       "      <td>147.0</td>\n",
       "      <td>59.0</td>\n",
       "    </tr>\n",
       "  </tbody>\n",
       "</table>\n",
       "</div>"
      ],
      "text/plain": [
       "   Respondent sequence number  Total cholesterol (mg/dL)  \\\n",
       "0                     31128.0                      129.0   \n",
       "1                     31129.0                      170.0   \n",
       "2                     31130.0                        NaN   \n",
       "3                     31131.0                      105.0   \n",
       "4                     31132.0                      147.0   \n",
       "\n",
       "   Direct HDL-Cholesterol (mg/dL)  \n",
       "0                            55.0  \n",
       "1                            46.0  \n",
       "2                             NaN  \n",
       "3                            39.0  \n",
       "4                            59.0  "
      ]
     },
     "execution_count": 16,
     "metadata": {},
     "output_type": "execute_result"
    }
   ],
   "source": [
    "# merge\n",
    "exam_df = tc1.merge(hdl, on='Respondent sequence number')\n",
    "exam_df.head()"
   ]
  },
  {
   "cell_type": "code",
   "execution_count": 17,
   "metadata": {},
   "outputs": [
    {
     "data": {
      "text/plain": [
       "8086"
      ]
     },
     "execution_count": 17,
     "metadata": {},
     "output_type": "execute_result"
    }
   ],
   "source": [
    "# length of the df\n",
    "len(exam_df)"
   ]
  },
  {
   "cell_type": "code",
   "execution_count": 18,
   "metadata": {},
   "outputs": [
    {
     "data": {
      "text/plain": [
       "<seaborn.axisgrid.PairGrid at 0x7fa9b3c906a0>"
      ]
     },
     "execution_count": 18,
     "metadata": {},
     "output_type": "execute_result"
    },
    {
     "data": {
      "image/png": "[encoded data removed]",
      "text/plain": [
       "<Figure size 360x360 with 6 Axes>"
      ]
     },
     "metadata": {
      "needs_background": "light"
     },
     "output_type": "display_data"
    }
   ],
   "source": [
    "sns.pairplot(exam_df[['Total cholesterol (mg/dL)', 'Direct HDL-Cholesterol (mg/dL)']],\n",
    "             diag_kind='kde', kind='hist')"
   ]
  },
  {
   "attachments": {},
   "cell_type": "markdown",
   "metadata": {},
   "source": [
    "- no correlation bet. total cholesterol with hdl?"
   ]
  },
  {
   "attachments": {},
   "cell_type": "markdown",
   "metadata": {},
   "source": [
    "---\n",
    "## 3. Cholesterol - LDL, Triglyceride & Apoliprotein (ApoB) (TRIGLY_D)\n",
    "\n",
    "- Data File: TRIGLY_D.xpt\n",
    "- https://wwwn.cdc.gov/Nchs/Nhanes/2005-2006/TRIGLY_D.htm"
   ]
  },
  {
   "cell_type": "code",
   "execution_count": 19,
   "metadata": {},
   "outputs": [
    {
     "data": {
      "text/html": [
       "<div>\n",
       "<style scoped>\n",
       "    .dataframe tbody tr th:only-of-type {\n",
       "        vertical-align: middle;\n",
       "    }\n",
       "\n",
       "    .dataframe tbody tr th {\n",
       "        vertical-align: top;\n",
       "    }\n",
       "\n",
       "    .dataframe thead th {\n",
       "        text-align: right;\n",
       "    }\n",
       "</style>\n",
       "<table border=\"1\" class=\"dataframe\">\n",
       "  <thead>\n",
       "    <tr style=\"text-align: right;\">\n",
       "      <th></th>\n",
       "      <th>SEQN</th>\n",
       "      <th>WTSAF2YR</th>\n",
       "      <th>LBXTR</th>\n",
       "      <th>LBDTRSI</th>\n",
       "      <th>LBDLDL</th>\n",
       "      <th>LBDLDLSI</th>\n",
       "      <th>LBXAPB</th>\n",
       "      <th>LBDAPBSI</th>\n",
       "    </tr>\n",
       "  </thead>\n",
       "  <tbody>\n",
       "    <tr>\n",
       "      <th>0</th>\n",
       "      <td>31130.0</td>\n",
       "      <td>5.397605e-79</td>\n",
       "      <td>NaN</td>\n",
       "      <td>NaN</td>\n",
       "      <td>NaN</td>\n",
       "      <td>NaN</td>\n",
       "      <td>NaN</td>\n",
       "      <td>NaN</td>\n",
       "    </tr>\n",
       "    <tr>\n",
       "      <th>1</th>\n",
       "      <td>31131.0</td>\n",
       "      <td>6.755681e+04</td>\n",
       "      <td>86.0</td>\n",
       "      <td>0.971</td>\n",
       "      <td>49.0</td>\n",
       "      <td>1.267</td>\n",
       "      <td>50.0</td>\n",
       "      <td>0.50</td>\n",
       "    </tr>\n",
       "    <tr>\n",
       "      <th>2</th>\n",
       "      <td>31132.0</td>\n",
       "      <td>8.019396e+04</td>\n",
       "      <td>65.0</td>\n",
       "      <td>0.734</td>\n",
       "      <td>75.0</td>\n",
       "      <td>1.940</td>\n",
       "      <td>75.0</td>\n",
       "      <td>0.75</td>\n",
       "    </tr>\n",
       "    <tr>\n",
       "      <th>3</th>\n",
       "      <td>31133.0</td>\n",
       "      <td>1.566802e+04</td>\n",
       "      <td>61.0</td>\n",
       "      <td>0.689</td>\n",
       "      <td>81.0</td>\n",
       "      <td>2.095</td>\n",
       "      <td>75.0</td>\n",
       "      <td>0.75</td>\n",
       "    </tr>\n",
       "    <tr>\n",
       "      <th>4</th>\n",
       "      <td>31134.0</td>\n",
       "      <td>9.339954e+04</td>\n",
       "      <td>195.0</td>\n",
       "      <td>2.202</td>\n",
       "      <td>98.0</td>\n",
       "      <td>2.534</td>\n",
       "      <td>111.0</td>\n",
       "      <td>1.11</td>\n",
       "    </tr>\n",
       "  </tbody>\n",
       "</table>\n",
       "</div>"
      ],
      "text/plain": [
       "      SEQN      WTSAF2YR  LBXTR  LBDTRSI  LBDLDL  LBDLDLSI  LBXAPB  LBDAPBSI\n",
       "0  31130.0  5.397605e-79    NaN      NaN     NaN       NaN     NaN       NaN\n",
       "1  31131.0  6.755681e+04   86.0    0.971    49.0     1.267    50.0      0.50\n",
       "2  31132.0  8.019396e+04   65.0    0.734    75.0     1.940    75.0      0.75\n",
       "3  31133.0  1.566802e+04   61.0    0.689    81.0     2.095    75.0      0.75\n",
       "4  31134.0  9.339954e+04  195.0    2.202    98.0     2.534   111.0      1.11"
      ]
     },
     "execution_count": 19,
     "metadata": {},
     "output_type": "execute_result"
    }
   ],
   "source": [
    "# open\n",
    "ldl = pd.read_sas('resources/TRIGLY_D.XPT')\n",
    "ldl.head()"
   ]
  },
  {
   "cell_type": "code",
   "execution_count": 20,
   "metadata": {},
   "outputs": [
    {
     "data": {
      "text/html": [
       "<div>\n",
       "<style scoped>\n",
       "    .dataframe tbody tr th:only-of-type {\n",
       "        vertical-align: middle;\n",
       "    }\n",
       "\n",
       "    .dataframe tbody tr th {\n",
       "        vertical-align: top;\n",
       "    }\n",
       "\n",
       "    .dataframe thead th {\n",
       "        text-align: right;\n",
       "    }\n",
       "</style>\n",
       "<table border=\"1\" class=\"dataframe\">\n",
       "  <thead>\n",
       "    <tr style=\"text-align: right;\">\n",
       "      <th></th>\n",
       "      <th>Respondent sequence number</th>\n",
       "      <th>WTSAF2YR</th>\n",
       "      <th>Triglyceride (mg/dL)</th>\n",
       "      <th>LBDTRSI</th>\n",
       "      <th>LDL-cholesterol (mg/dL)</th>\n",
       "      <th>LBDLDLSI</th>\n",
       "      <th>Apolipoprotein (B) (mg/dL)</th>\n",
       "      <th>LBDAPBSI</th>\n",
       "    </tr>\n",
       "  </thead>\n",
       "  <tbody>\n",
       "    <tr>\n",
       "      <th>0</th>\n",
       "      <td>31130.0</td>\n",
       "      <td>5.397605e-79</td>\n",
       "      <td>NaN</td>\n",
       "      <td>NaN</td>\n",
       "      <td>NaN</td>\n",
       "      <td>NaN</td>\n",
       "      <td>NaN</td>\n",
       "      <td>NaN</td>\n",
       "    </tr>\n",
       "    <tr>\n",
       "      <th>1</th>\n",
       "      <td>31131.0</td>\n",
       "      <td>6.755681e+04</td>\n",
       "      <td>86.0</td>\n",
       "      <td>0.971</td>\n",
       "      <td>49.0</td>\n",
       "      <td>1.267</td>\n",
       "      <td>50.0</td>\n",
       "      <td>0.50</td>\n",
       "    </tr>\n",
       "    <tr>\n",
       "      <th>2</th>\n",
       "      <td>31132.0</td>\n",
       "      <td>8.019396e+04</td>\n",
       "      <td>65.0</td>\n",
       "      <td>0.734</td>\n",
       "      <td>75.0</td>\n",
       "      <td>1.940</td>\n",
       "      <td>75.0</td>\n",
       "      <td>0.75</td>\n",
       "    </tr>\n",
       "    <tr>\n",
       "      <th>3</th>\n",
       "      <td>31133.0</td>\n",
       "      <td>1.566802e+04</td>\n",
       "      <td>61.0</td>\n",
       "      <td>0.689</td>\n",
       "      <td>81.0</td>\n",
       "      <td>2.095</td>\n",
       "      <td>75.0</td>\n",
       "      <td>0.75</td>\n",
       "    </tr>\n",
       "    <tr>\n",
       "      <th>4</th>\n",
       "      <td>31134.0</td>\n",
       "      <td>9.339954e+04</td>\n",
       "      <td>195.0</td>\n",
       "      <td>2.202</td>\n",
       "      <td>98.0</td>\n",
       "      <td>2.534</td>\n",
       "      <td>111.0</td>\n",
       "      <td>1.11</td>\n",
       "    </tr>\n",
       "  </tbody>\n",
       "</table>\n",
       "</div>"
      ],
      "text/plain": [
       "   Respondent sequence number      WTSAF2YR  Triglyceride (mg/dL)  LBDTRSI  \\\n",
       "0                     31130.0  5.397605e-79                   NaN      NaN   \n",
       "1                     31131.0  6.755681e+04                  86.0    0.971   \n",
       "2                     31132.0  8.019396e+04                  65.0    0.734   \n",
       "3                     31133.0  1.566802e+04                  61.0    0.689   \n",
       "4                     31134.0  9.339954e+04                 195.0    2.202   \n",
       "\n",
       "   LDL-cholesterol (mg/dL)  LBDLDLSI  Apolipoprotein (B) (mg/dL)  LBDAPBSI  \n",
       "0                      NaN       NaN                         NaN       NaN  \n",
       "1                     49.0     1.267                        50.0      0.50  \n",
       "2                     75.0     1.940                        75.0      0.75  \n",
       "3                     81.0     2.095                        75.0      0.75  \n",
       "4                     98.0     2.534                       111.0      1.11  "
      ]
     },
     "execution_count": 20,
     "metadata": {},
     "output_type": "execute_result"
    }
   ],
   "source": [
    "# rename\n",
    "ldl = ldl.rename(columns={\n",
    "       'SEQN': 'Respondent sequence number',\n",
    "       'LBXTR': 'Triglyceride (mg/dL)',\n",
    "       'LBDLDL': 'LDL-cholesterol (mg/dL)',  \n",
    "       'LBXAPB': 'Apolipoprotein (B) (mg/dL)'\n",
    "})\n",
    "ldl.head()"
   ]
  },
  {
   "cell_type": "code",
   "execution_count": 21,
   "metadata": {},
   "outputs": [
    {
     "data": {
      "text/html": [
       "<div>\n",
       "<style scoped>\n",
       "    .dataframe tbody tr th:only-of-type {\n",
       "        vertical-align: middle;\n",
       "    }\n",
       "\n",
       "    .dataframe tbody tr th {\n",
       "        vertical-align: top;\n",
       "    }\n",
       "\n",
       "    .dataframe thead th {\n",
       "        text-align: right;\n",
       "    }\n",
       "</style>\n",
       "<table border=\"1\" class=\"dataframe\">\n",
       "  <thead>\n",
       "    <tr style=\"text-align: right;\">\n",
       "      <th></th>\n",
       "      <th>Respondent sequence number</th>\n",
       "      <th>Triglyceride (mg/dL)</th>\n",
       "      <th>LDL-cholesterol (mg/dL)</th>\n",
       "      <th>Apolipoprotein (B) (mg/dL)</th>\n",
       "    </tr>\n",
       "  </thead>\n",
       "  <tbody>\n",
       "    <tr>\n",
       "      <th>0</th>\n",
       "      <td>31130.0</td>\n",
       "      <td>NaN</td>\n",
       "      <td>NaN</td>\n",
       "      <td>NaN</td>\n",
       "    </tr>\n",
       "    <tr>\n",
       "      <th>1</th>\n",
       "      <td>31131.0</td>\n",
       "      <td>86.0</td>\n",
       "      <td>49.0</td>\n",
       "      <td>50.0</td>\n",
       "    </tr>\n",
       "    <tr>\n",
       "      <th>2</th>\n",
       "      <td>31132.0</td>\n",
       "      <td>65.0</td>\n",
       "      <td>75.0</td>\n",
       "      <td>75.0</td>\n",
       "    </tr>\n",
       "    <tr>\n",
       "      <th>3</th>\n",
       "      <td>31133.0</td>\n",
       "      <td>61.0</td>\n",
       "      <td>81.0</td>\n",
       "      <td>75.0</td>\n",
       "    </tr>\n",
       "    <tr>\n",
       "      <th>4</th>\n",
       "      <td>31134.0</td>\n",
       "      <td>195.0</td>\n",
       "      <td>98.0</td>\n",
       "      <td>111.0</td>\n",
       "    </tr>\n",
       "  </tbody>\n",
       "</table>\n",
       "</div>"
      ],
      "text/plain": [
       "   Respondent sequence number  Triglyceride (mg/dL)  LDL-cholesterol (mg/dL)  \\\n",
       "0                     31130.0                   NaN                      NaN   \n",
       "1                     31131.0                  86.0                     49.0   \n",
       "2                     31132.0                  65.0                     75.0   \n",
       "3                     31133.0                  61.0                     81.0   \n",
       "4                     31134.0                 195.0                     98.0   \n",
       "\n",
       "   Apolipoprotein (B) (mg/dL)  \n",
       "0                         NaN  \n",
       "1                        50.0  \n",
       "2                        75.0  \n",
       "3                        75.0  \n",
       "4                       111.0  "
      ]
     },
     "execution_count": 21,
     "metadata": {},
     "output_type": "execute_result"
    }
   ],
   "source": [
    "# drop col\n",
    "ldl = ldl.drop(ldl[['WTSAF2YR', 'LBDTRSI', 'LBDAPBSI', 'LBDLDLSI']], axis=1)\n",
    "ldl.head()"
   ]
  },
  {
   "cell_type": "code",
   "execution_count": 22,
   "metadata": {},
   "outputs": [
    {
     "data": {
      "text/html": [
       "<div>\n",
       "<style scoped>\n",
       "    .dataframe tbody tr th:only-of-type {\n",
       "        vertical-align: middle;\n",
       "    }\n",
       "\n",
       "    .dataframe tbody tr th {\n",
       "        vertical-align: top;\n",
       "    }\n",
       "\n",
       "    .dataframe thead th {\n",
       "        text-align: right;\n",
       "    }\n",
       "</style>\n",
       "<table border=\"1\" class=\"dataframe\">\n",
       "  <thead>\n",
       "    <tr style=\"text-align: right;\">\n",
       "      <th></th>\n",
       "      <th>Respondent sequence number</th>\n",
       "      <th>Total cholesterol (mg/dL)</th>\n",
       "      <th>Direct HDL-Cholesterol (mg/dL)</th>\n",
       "      <th>Triglyceride (mg/dL)</th>\n",
       "      <th>LDL-cholesterol (mg/dL)</th>\n",
       "      <th>Apolipoprotein (B) (mg/dL)</th>\n",
       "    </tr>\n",
       "  </thead>\n",
       "  <tbody>\n",
       "    <tr>\n",
       "      <th>0</th>\n",
       "      <td>31130.0</td>\n",
       "      <td>NaN</td>\n",
       "      <td>NaN</td>\n",
       "      <td>NaN</td>\n",
       "      <td>NaN</td>\n",
       "      <td>NaN</td>\n",
       "    </tr>\n",
       "    <tr>\n",
       "      <th>1</th>\n",
       "      <td>31131.0</td>\n",
       "      <td>105.0</td>\n",
       "      <td>39.0</td>\n",
       "      <td>86.0</td>\n",
       "      <td>49.0</td>\n",
       "      <td>50.0</td>\n",
       "    </tr>\n",
       "    <tr>\n",
       "      <th>2</th>\n",
       "      <td>31132.0</td>\n",
       "      <td>147.0</td>\n",
       "      <td>59.0</td>\n",
       "      <td>65.0</td>\n",
       "      <td>75.0</td>\n",
       "      <td>75.0</td>\n",
       "    </tr>\n",
       "    <tr>\n",
       "      <th>3</th>\n",
       "      <td>31133.0</td>\n",
       "      <td>147.0</td>\n",
       "      <td>54.0</td>\n",
       "      <td>61.0</td>\n",
       "      <td>81.0</td>\n",
       "      <td>75.0</td>\n",
       "    </tr>\n",
       "    <tr>\n",
       "      <th>4</th>\n",
       "      <td>31134.0</td>\n",
       "      <td>186.0</td>\n",
       "      <td>49.0</td>\n",
       "      <td>195.0</td>\n",
       "      <td>98.0</td>\n",
       "      <td>111.0</td>\n",
       "    </tr>\n",
       "  </tbody>\n",
       "</table>\n",
       "</div>"
      ],
      "text/plain": [
       "   Respondent sequence number  Total cholesterol (mg/dL)  \\\n",
       "0                     31130.0                        NaN   \n",
       "1                     31131.0                      105.0   \n",
       "2                     31132.0                      147.0   \n",
       "3                     31133.0                      147.0   \n",
       "4                     31134.0                      186.0   \n",
       "\n",
       "   Direct HDL-Cholesterol (mg/dL)  Triglyceride (mg/dL)  \\\n",
       "0                             NaN                   NaN   \n",
       "1                            39.0                  86.0   \n",
       "2                            59.0                  65.0   \n",
       "3                            54.0                  61.0   \n",
       "4                            49.0                 195.0   \n",
       "\n",
       "   LDL-cholesterol (mg/dL)  Apolipoprotein (B) (mg/dL)  \n",
       "0                      NaN                         NaN  \n",
       "1                     49.0                        50.0  \n",
       "2                     75.0                        75.0  \n",
       "3                     81.0                        75.0  \n",
       "4                     98.0                       111.0  "
      ]
     },
     "execution_count": 22,
     "metadata": {},
     "output_type": "execute_result"
    }
   ],
   "source": [
    "# merge\n",
    "exam_df = exam_df.merge(ldl, on='Respondent sequence number')\n",
    "exam_df.head()"
   ]
  },
  {
   "attachments": {},
   "cell_type": "markdown",
   "metadata": {},
   "source": [
    "---\n",
    "## 4. C-Reactive Protein (CRP) (CRP_D)\n",
    "\n",
    "- Data File: CRP_D.xpt\n",
    "\n",
    "- https://wwwn.cdc.gov/Nchs/Nhanes/2005-2006/CRP_D.htm\n"
   ]
  },
  {
   "cell_type": "code",
   "execution_count": 23,
   "metadata": {},
   "outputs": [
    {
     "data": {
      "text/html": [
       "<div>\n",
       "<style scoped>\n",
       "    .dataframe tbody tr th:only-of-type {\n",
       "        vertical-align: middle;\n",
       "    }\n",
       "\n",
       "    .dataframe tbody tr th {\n",
       "        vertical-align: top;\n",
       "    }\n",
       "\n",
       "    .dataframe thead th {\n",
       "        text-align: right;\n",
       "    }\n",
       "</style>\n",
       "<table border=\"1\" class=\"dataframe\">\n",
       "  <thead>\n",
       "    <tr style=\"text-align: right;\">\n",
       "      <th></th>\n",
       "      <th>SEQN</th>\n",
       "      <th>LBXCRP</th>\n",
       "    </tr>\n",
       "  </thead>\n",
       "  <tbody>\n",
       "    <tr>\n",
       "      <th>0</th>\n",
       "      <td>31128.0</td>\n",
       "      <td>0.01</td>\n",
       "    </tr>\n",
       "    <tr>\n",
       "      <th>1</th>\n",
       "      <td>31129.0</td>\n",
       "      <td>1.57</td>\n",
       "    </tr>\n",
       "    <tr>\n",
       "      <th>2</th>\n",
       "      <td>31130.0</td>\n",
       "      <td>NaN</td>\n",
       "    </tr>\n",
       "    <tr>\n",
       "      <th>3</th>\n",
       "      <td>31131.0</td>\n",
       "      <td>2.44</td>\n",
       "    </tr>\n",
       "    <tr>\n",
       "      <th>4</th>\n",
       "      <td>31132.0</td>\n",
       "      <td>0.05</td>\n",
       "    </tr>\n",
       "  </tbody>\n",
       "</table>\n",
       "</div>"
      ],
      "text/plain": [
       "      SEQN  LBXCRP\n",
       "0  31128.0    0.01\n",
       "1  31129.0    1.57\n",
       "2  31130.0     NaN\n",
       "3  31131.0    2.44\n",
       "4  31132.0    0.05"
      ]
     },
     "execution_count": 23,
     "metadata": {},
     "output_type": "execute_result"
    }
   ],
   "source": [
    "crp = pd.read_sas('resources/CRP_D.XPT')\n",
    "crp.head()"
   ]
  },
  {
   "cell_type": "code",
   "execution_count": 24,
   "metadata": {},
   "outputs": [
    {
     "data": {
      "text/plain": [
       "9440"
      ]
     },
     "execution_count": 24,
     "metadata": {},
     "output_type": "execute_result"
    }
   ],
   "source": [
    "len(crp)"
   ]
  },
  {
   "cell_type": "code",
   "execution_count": 25,
   "metadata": {},
   "outputs": [
    {
     "data": {
      "text/html": [
       "<div>\n",
       "<style scoped>\n",
       "    .dataframe tbody tr th:only-of-type {\n",
       "        vertical-align: middle;\n",
       "    }\n",
       "\n",
       "    .dataframe tbody tr th {\n",
       "        vertical-align: top;\n",
       "    }\n",
       "\n",
       "    .dataframe thead th {\n",
       "        text-align: right;\n",
       "    }\n",
       "</style>\n",
       "<table border=\"1\" class=\"dataframe\">\n",
       "  <thead>\n",
       "    <tr style=\"text-align: right;\">\n",
       "      <th></th>\n",
       "      <th>Respondent sequence number</th>\n",
       "      <th>C-reactive protein(mg/dL)</th>\n",
       "    </tr>\n",
       "  </thead>\n",
       "  <tbody>\n",
       "    <tr>\n",
       "      <th>0</th>\n",
       "      <td>31128.0</td>\n",
       "      <td>0.01</td>\n",
       "    </tr>\n",
       "    <tr>\n",
       "      <th>1</th>\n",
       "      <td>31129.0</td>\n",
       "      <td>1.57</td>\n",
       "    </tr>\n",
       "    <tr>\n",
       "      <th>2</th>\n",
       "      <td>31130.0</td>\n",
       "      <td>NaN</td>\n",
       "    </tr>\n",
       "    <tr>\n",
       "      <th>3</th>\n",
       "      <td>31131.0</td>\n",
       "      <td>2.44</td>\n",
       "    </tr>\n",
       "    <tr>\n",
       "      <th>4</th>\n",
       "      <td>31132.0</td>\n",
       "      <td>0.05</td>\n",
       "    </tr>\n",
       "    <tr>\n",
       "      <th>...</th>\n",
       "      <td>...</td>\n",
       "      <td>...</td>\n",
       "    </tr>\n",
       "    <tr>\n",
       "      <th>9435</th>\n",
       "      <td>41469.0</td>\n",
       "      <td>0.01</td>\n",
       "    </tr>\n",
       "    <tr>\n",
       "      <th>9436</th>\n",
       "      <td>41471.0</td>\n",
       "      <td>0.02</td>\n",
       "    </tr>\n",
       "    <tr>\n",
       "      <th>9437</th>\n",
       "      <td>41472.0</td>\n",
       "      <td>0.01</td>\n",
       "    </tr>\n",
       "    <tr>\n",
       "      <th>9438</th>\n",
       "      <td>41473.0</td>\n",
       "      <td>0.23</td>\n",
       "    </tr>\n",
       "    <tr>\n",
       "      <th>9439</th>\n",
       "      <td>41474.0</td>\n",
       "      <td>0.14</td>\n",
       "    </tr>\n",
       "  </tbody>\n",
       "</table>\n",
       "<p>9440 rows × 2 columns</p>\n",
       "</div>"
      ],
      "text/plain": [
       "      Respondent sequence number  C-reactive protein(mg/dL)\n",
       "0                        31128.0                       0.01\n",
       "1                        31129.0                       1.57\n",
       "2                        31130.0                        NaN\n",
       "3                        31131.0                       2.44\n",
       "4                        31132.0                       0.05\n",
       "...                          ...                        ...\n",
       "9435                     41469.0                       0.01\n",
       "9436                     41471.0                       0.02\n",
       "9437                     41472.0                       0.01\n",
       "9438                     41473.0                       0.23\n",
       "9439                     41474.0                       0.14\n",
       "\n",
       "[9440 rows x 2 columns]"
      ]
     },
     "execution_count": 25,
     "metadata": {},
     "output_type": "execute_result"
    }
   ],
   "source": [
    "crp = crp.rename(columns =\n",
    "              {'SEQN' : 'Respondent sequence number',\n",
    "               'LBXCRP' : 'C-reactive protein(mg/dL)'}\n",
    ")\n",
    "crp"
   ]
  },
  {
   "cell_type": "code",
   "execution_count": 26,
   "metadata": {},
   "outputs": [
    {
     "data": {
      "text/html": [
       "<div>\n",
       "<style scoped>\n",
       "    .dataframe tbody tr th:only-of-type {\n",
       "        vertical-align: middle;\n",
       "    }\n",
       "\n",
       "    .dataframe tbody tr th {\n",
       "        vertical-align: top;\n",
       "    }\n",
       "\n",
       "    .dataframe thead th {\n",
       "        text-align: right;\n",
       "    }\n",
       "</style>\n",
       "<table border=\"1\" class=\"dataframe\">\n",
       "  <thead>\n",
       "    <tr style=\"text-align: right;\">\n",
       "      <th></th>\n",
       "      <th>Respondent sequence number</th>\n",
       "      <th>Total cholesterol (mg/dL)</th>\n",
       "      <th>Direct HDL-Cholesterol (mg/dL)</th>\n",
       "      <th>Triglyceride (mg/dL)</th>\n",
       "      <th>LDL-cholesterol (mg/dL)</th>\n",
       "      <th>Apolipoprotein (B) (mg/dL)</th>\n",
       "      <th>C-reactive protein(mg/dL)</th>\n",
       "    </tr>\n",
       "  </thead>\n",
       "  <tbody>\n",
       "    <tr>\n",
       "      <th>0</th>\n",
       "      <td>31130.0</td>\n",
       "      <td>NaN</td>\n",
       "      <td>NaN</td>\n",
       "      <td>NaN</td>\n",
       "      <td>NaN</td>\n",
       "      <td>NaN</td>\n",
       "      <td>NaN</td>\n",
       "    </tr>\n",
       "    <tr>\n",
       "      <th>1</th>\n",
       "      <td>31131.0</td>\n",
       "      <td>105.0</td>\n",
       "      <td>39.0</td>\n",
       "      <td>86.0</td>\n",
       "      <td>49.0</td>\n",
       "      <td>50.0</td>\n",
       "      <td>2.44</td>\n",
       "    </tr>\n",
       "    <tr>\n",
       "      <th>2</th>\n",
       "      <td>31132.0</td>\n",
       "      <td>147.0</td>\n",
       "      <td>59.0</td>\n",
       "      <td>65.0</td>\n",
       "      <td>75.0</td>\n",
       "      <td>75.0</td>\n",
       "      <td>0.05</td>\n",
       "    </tr>\n",
       "    <tr>\n",
       "      <th>3</th>\n",
       "      <td>31133.0</td>\n",
       "      <td>147.0</td>\n",
       "      <td>54.0</td>\n",
       "      <td>61.0</td>\n",
       "      <td>81.0</td>\n",
       "      <td>75.0</td>\n",
       "      <td>0.09</td>\n",
       "    </tr>\n",
       "    <tr>\n",
       "      <th>4</th>\n",
       "      <td>31134.0</td>\n",
       "      <td>186.0</td>\n",
       "      <td>49.0</td>\n",
       "      <td>195.0</td>\n",
       "      <td>98.0</td>\n",
       "      <td>111.0</td>\n",
       "      <td>0.21</td>\n",
       "    </tr>\n",
       "    <tr>\n",
       "      <th>...</th>\n",
       "      <td>...</td>\n",
       "      <td>...</td>\n",
       "      <td>...</td>\n",
       "      <td>...</td>\n",
       "      <td>...</td>\n",
       "      <td>...</td>\n",
       "      <td>...</td>\n",
       "    </tr>\n",
       "    <tr>\n",
       "      <th>3347</th>\n",
       "      <td>41465.0</td>\n",
       "      <td>152.0</td>\n",
       "      <td>40.0</td>\n",
       "      <td>81.0</td>\n",
       "      <td>96.0</td>\n",
       "      <td>84.0</td>\n",
       "      <td>3.13</td>\n",
       "    </tr>\n",
       "    <tr>\n",
       "      <th>3348</th>\n",
       "      <td>41467.0</td>\n",
       "      <td>147.0</td>\n",
       "      <td>53.0</td>\n",
       "      <td>69.0</td>\n",
       "      <td>80.0</td>\n",
       "      <td>75.0</td>\n",
       "      <td>0.03</td>\n",
       "    </tr>\n",
       "    <tr>\n",
       "      <th>3349</th>\n",
       "      <td>41471.0</td>\n",
       "      <td>142.0</td>\n",
       "      <td>52.0</td>\n",
       "      <td>89.0</td>\n",
       "      <td>72.0</td>\n",
       "      <td>60.0</td>\n",
       "      <td>0.02</td>\n",
       "    </tr>\n",
       "    <tr>\n",
       "      <th>3350</th>\n",
       "      <td>41472.0</td>\n",
       "      <td>140.0</td>\n",
       "      <td>30.0</td>\n",
       "      <td>120.0</td>\n",
       "      <td>86.0</td>\n",
       "      <td>91.0</td>\n",
       "      <td>0.01</td>\n",
       "    </tr>\n",
       "    <tr>\n",
       "      <th>3351</th>\n",
       "      <td>41474.0</td>\n",
       "      <td>101.0</td>\n",
       "      <td>48.0</td>\n",
       "      <td>88.0</td>\n",
       "      <td>35.0</td>\n",
       "      <td>37.0</td>\n",
       "      <td>0.14</td>\n",
       "    </tr>\n",
       "  </tbody>\n",
       "</table>\n",
       "<p>3352 rows × 7 columns</p>\n",
       "</div>"
      ],
      "text/plain": [
       "      Respondent sequence number  Total cholesterol (mg/dL)  \\\n",
       "0                        31130.0                        NaN   \n",
       "1                        31131.0                      105.0   \n",
       "2                        31132.0                      147.0   \n",
       "3                        31133.0                      147.0   \n",
       "4                        31134.0                      186.0   \n",
       "...                          ...                        ...   \n",
       "3347                     41465.0                      152.0   \n",
       "3348                     41467.0                      147.0   \n",
       "3349                     41471.0                      142.0   \n",
       "3350                     41472.0                      140.0   \n",
       "3351                     41474.0                      101.0   \n",
       "\n",
       "      Direct HDL-Cholesterol (mg/dL)  Triglyceride (mg/dL)  \\\n",
       "0                                NaN                   NaN   \n",
       "1                               39.0                  86.0   \n",
       "2                               59.0                  65.0   \n",
       "3                               54.0                  61.0   \n",
       "4                               49.0                 195.0   \n",
       "...                              ...                   ...   \n",
       "3347                            40.0                  81.0   \n",
       "3348                            53.0                  69.0   \n",
       "3349                            52.0                  89.0   \n",
       "3350                            30.0                 120.0   \n",
       "3351                            48.0                  88.0   \n",
       "\n",
       "      LDL-cholesterol (mg/dL)  Apolipoprotein (B) (mg/dL)  \\\n",
       "0                         NaN                         NaN   \n",
       "1                        49.0                        50.0   \n",
       "2                        75.0                        75.0   \n",
       "3                        81.0                        75.0   \n",
       "4                        98.0                       111.0   \n",
       "...                       ...                         ...   \n",
       "3347                     96.0                        84.0   \n",
       "3348                     80.0                        75.0   \n",
       "3349                     72.0                        60.0   \n",
       "3350                     86.0                        91.0   \n",
       "3351                     35.0                        37.0   \n",
       "\n",
       "      C-reactive protein(mg/dL)  \n",
       "0                           NaN  \n",
       "1                          2.44  \n",
       "2                          0.05  \n",
       "3                          0.09  \n",
       "4                          0.21  \n",
       "...                         ...  \n",
       "3347                       3.13  \n",
       "3348                       0.03  \n",
       "3349                       0.02  \n",
       "3350                       0.01  \n",
       "3351                       0.14  \n",
       "\n",
       "[3352 rows x 7 columns]"
      ]
     },
     "execution_count": 26,
     "metadata": {},
     "output_type": "execute_result"
    }
   ],
   "source": [
    "# merge crp into df\n",
    "exam_df = exam_df.merge(crp, on=['Respondent sequence number'])\n",
    "exam_df"
   ]
  },
  {
   "attachments": {},
   "cell_type": "markdown",
   "metadata": {},
   "source": [
    "---\n",
    "## 5. Glycohemoglobin (GHB_D):  HbA1C\n",
    "\n",
    "- Data File: GHB_D.xpt\n",
    "\n",
    "- https://wwwn.cdc.gov/Nchs/Nhanes/2005-2006/GHB_D.htm"
   ]
  },
  {
   "cell_type": "code",
   "execution_count": 27,
   "metadata": {},
   "outputs": [
    {
     "data": {
      "text/html": [
       "<div>\n",
       "<style scoped>\n",
       "    .dataframe tbody tr th:only-of-type {\n",
       "        vertical-align: middle;\n",
       "    }\n",
       "\n",
       "    .dataframe tbody tr th {\n",
       "        vertical-align: top;\n",
       "    }\n",
       "\n",
       "    .dataframe thead th {\n",
       "        text-align: right;\n",
       "    }\n",
       "</style>\n",
       "<table border=\"1\" class=\"dataframe\">\n",
       "  <thead>\n",
       "    <tr style=\"text-align: right;\">\n",
       "      <th></th>\n",
       "      <th>SEQN</th>\n",
       "      <th>LBXGH</th>\n",
       "    </tr>\n",
       "  </thead>\n",
       "  <tbody>\n",
       "    <tr>\n",
       "      <th>0</th>\n",
       "      <td>31129.0</td>\n",
       "      <td>5.2</td>\n",
       "    </tr>\n",
       "    <tr>\n",
       "      <th>1</th>\n",
       "      <td>31130.0</td>\n",
       "      <td>NaN</td>\n",
       "    </tr>\n",
       "    <tr>\n",
       "      <th>2</th>\n",
       "      <td>31131.0</td>\n",
       "      <td>6.0</td>\n",
       "    </tr>\n",
       "    <tr>\n",
       "      <th>3</th>\n",
       "      <td>31132.0</td>\n",
       "      <td>7.1</td>\n",
       "    </tr>\n",
       "    <tr>\n",
       "      <th>4</th>\n",
       "      <td>31133.0</td>\n",
       "      <td>4.7</td>\n",
       "    </tr>\n",
       "  </tbody>\n",
       "</table>\n",
       "</div>"
      ],
      "text/plain": [
       "      SEQN  LBXGH\n",
       "0  31129.0    5.2\n",
       "1  31130.0    NaN\n",
       "2  31131.0    6.0\n",
       "3  31132.0    7.1\n",
       "4  31133.0    4.7"
      ]
     },
     "execution_count": 27,
     "metadata": {},
     "output_type": "execute_result"
    }
   ],
   "source": [
    "ghb = pd.read_sas('resources/GHB_D.XPT')\n",
    "ghb.head()"
   ]
  },
  {
   "cell_type": "code",
   "execution_count": 28,
   "metadata": {},
   "outputs": [
    {
     "data": {
      "text/plain": [
       "6980"
      ]
     },
     "execution_count": 28,
     "metadata": {},
     "output_type": "execute_result"
    }
   ],
   "source": [
    "len(ghb)"
   ]
  },
  {
   "cell_type": "code",
   "execution_count": 29,
   "metadata": {},
   "outputs": [
    {
     "data": {
      "text/html": [
       "<div>\n",
       "<style scoped>\n",
       "    .dataframe tbody tr th:only-of-type {\n",
       "        vertical-align: middle;\n",
       "    }\n",
       "\n",
       "    .dataframe tbody tr th {\n",
       "        vertical-align: top;\n",
       "    }\n",
       "\n",
       "    .dataframe thead th {\n",
       "        text-align: right;\n",
       "    }\n",
       "</style>\n",
       "<table border=\"1\" class=\"dataframe\">\n",
       "  <thead>\n",
       "    <tr style=\"text-align: right;\">\n",
       "      <th></th>\n",
       "      <th>Respondent sequence number</th>\n",
       "      <th>Glycohemoglobin (%)</th>\n",
       "    </tr>\n",
       "  </thead>\n",
       "  <tbody>\n",
       "    <tr>\n",
       "      <th>0</th>\n",
       "      <td>31129.0</td>\n",
       "      <td>5.2</td>\n",
       "    </tr>\n",
       "    <tr>\n",
       "      <th>1</th>\n",
       "      <td>31130.0</td>\n",
       "      <td>NaN</td>\n",
       "    </tr>\n",
       "    <tr>\n",
       "      <th>2</th>\n",
       "      <td>31131.0</td>\n",
       "      <td>6.0</td>\n",
       "    </tr>\n",
       "    <tr>\n",
       "      <th>3</th>\n",
       "      <td>31132.0</td>\n",
       "      <td>7.1</td>\n",
       "    </tr>\n",
       "    <tr>\n",
       "      <th>4</th>\n",
       "      <td>31133.0</td>\n",
       "      <td>4.7</td>\n",
       "    </tr>\n",
       "  </tbody>\n",
       "</table>\n",
       "</div>"
      ],
      "text/plain": [
       "   Respondent sequence number  Glycohemoglobin (%)\n",
       "0                     31129.0                  5.2\n",
       "1                     31130.0                  NaN\n",
       "2                     31131.0                  6.0\n",
       "3                     31132.0                  7.1\n",
       "4                     31133.0                  4.7"
      ]
     },
     "execution_count": 29,
     "metadata": {},
     "output_type": "execute_result"
    }
   ],
   "source": [
    "ghb = ghb.rename(columns={\n",
    "    'SEQN':'Respondent sequence number',\n",
    "    'LBXGH': 'Glycohemoglobin (%)'\n",
    "})\n",
    "\n",
    "ghb.head()"
   ]
  },
  {
   "cell_type": "code",
   "execution_count": 30,
   "metadata": {},
   "outputs": [
    {
     "data": {
      "text/plain": [
       "6980"
      ]
     },
     "execution_count": 30,
     "metadata": {},
     "output_type": "execute_result"
    }
   ],
   "source": [
    "# drop nan\n",
    "#ghb = ghb.dropna()\n",
    "len(ghb)"
   ]
  },
  {
   "cell_type": "code",
   "execution_count": 31,
   "metadata": {},
   "outputs": [
    {
     "data": {
      "text/plain": [
       "count    6493.000000\n",
       "mean        5.423425\n",
       "std         0.906870\n",
       "min         3.800000\n",
       "25%         5.000000\n",
       "50%         5.300000\n",
       "75%         5.600000\n",
       "max        15.600000\n",
       "Name: Glycohemoglobin (%), dtype: float64"
      ]
     },
     "execution_count": 31,
     "metadata": {},
     "output_type": "execute_result"
    }
   ],
   "source": [
    "# summary stat\n",
    "ghb['Glycohemoglobin (%)'].describe()"
   ]
  },
  {
   "cell_type": "code",
   "execution_count": 32,
   "metadata": {},
   "outputs": [
    {
     "data": {
      "text/plain": [
       "<AxesSubplot:xlabel='Glycohemoglobin (%)', ylabel='Count'>"
      ]
     },
     "execution_count": 32,
     "metadata": {},
     "output_type": "execute_result"
    },
    {
     "data": {
      "image/png": "[encoded data removed]",
      "text/plain": [
       "<Figure size 432x288 with 1 Axes>"
      ]
     },
     "metadata": {
      "needs_background": "light"
     },
     "output_type": "display_data"
    }
   ],
   "source": [
    "# histo\n",
    "sns.histplot(ghb['Glycohemoglobin (%)'],bins=100, element='bars', kde=True)"
   ]
  },
  {
   "attachments": {},
   "cell_type": "markdown",
   "metadata": {},
   "source": [
    "### - det. the diabetic status based on the ghb level"
   ]
  },
  {
   "cell_type": "code",
   "execution_count": 33,
   "metadata": {},
   "outputs": [
    {
     "data": {
      "text/html": [
       "<div>\n",
       "<style scoped>\n",
       "    .dataframe tbody tr th:only-of-type {\n",
       "        vertical-align: middle;\n",
       "    }\n",
       "\n",
       "    .dataframe tbody tr th {\n",
       "        vertical-align: top;\n",
       "    }\n",
       "\n",
       "    .dataframe thead th {\n",
       "        text-align: right;\n",
       "    }\n",
       "</style>\n",
       "<table border=\"1\" class=\"dataframe\">\n",
       "  <thead>\n",
       "    <tr style=\"text-align: right;\">\n",
       "      <th></th>\n",
       "      <th>Respondent sequence number</th>\n",
       "      <th>Glycohemoglobin (%)</th>\n",
       "    </tr>\n",
       "  </thead>\n",
       "  <tbody>\n",
       "    <tr>\n",
       "      <th>0</th>\n",
       "      <td>31129.0</td>\n",
       "      <td>5.2</td>\n",
       "    </tr>\n",
       "    <tr>\n",
       "      <th>4</th>\n",
       "      <td>31133.0</td>\n",
       "      <td>4.7</td>\n",
       "    </tr>\n",
       "    <tr>\n",
       "      <th>9</th>\n",
       "      <td>31143.0</td>\n",
       "      <td>4.7</td>\n",
       "    </tr>\n",
       "    <tr>\n",
       "      <th>10</th>\n",
       "      <td>31144.0</td>\n",
       "      <td>4.8</td>\n",
       "    </tr>\n",
       "    <tr>\n",
       "      <th>11</th>\n",
       "      <td>31148.0</td>\n",
       "      <td>5.0</td>\n",
       "    </tr>\n",
       "    <tr>\n",
       "      <th>...</th>\n",
       "      <td>...</td>\n",
       "      <td>...</td>\n",
       "    </tr>\n",
       "    <tr>\n",
       "      <th>6975</th>\n",
       "      <td>41469.0</td>\n",
       "      <td>5.6</td>\n",
       "    </tr>\n",
       "    <tr>\n",
       "      <th>6976</th>\n",
       "      <td>41471.0</td>\n",
       "      <td>5.4</td>\n",
       "    </tr>\n",
       "    <tr>\n",
       "      <th>6977</th>\n",
       "      <td>41472.0</td>\n",
       "      <td>4.8</td>\n",
       "    </tr>\n",
       "    <tr>\n",
       "      <th>6978</th>\n",
       "      <td>41473.0</td>\n",
       "      <td>5.5</td>\n",
       "    </tr>\n",
       "    <tr>\n",
       "      <th>6979</th>\n",
       "      <td>41474.0</td>\n",
       "      <td>5.4</td>\n",
       "    </tr>\n",
       "  </tbody>\n",
       "</table>\n",
       "<p>5158 rows × 2 columns</p>\n",
       "</div>"
      ],
      "text/plain": [
       "      Respondent sequence number  Glycohemoglobin (%)\n",
       "0                        31129.0                  5.2\n",
       "4                        31133.0                  4.7\n",
       "9                        31143.0                  4.7\n",
       "10                       31144.0                  4.8\n",
       "11                       31148.0                  5.0\n",
       "...                          ...                  ...\n",
       "6975                     41469.0                  5.6\n",
       "6976                     41471.0                  5.4\n",
       "6977                     41472.0                  4.8\n",
       "6978                     41473.0                  5.5\n",
       "6979                     41474.0                  5.4\n",
       "\n",
       "[5158 rows x 2 columns]"
      ]
     },
     "execution_count": 33,
     "metadata": {},
     "output_type": "execute_result"
    }
   ],
   "source": [
    "# normal ghb\n",
    "normal_ghb = ghb.loc[ghb['Glycohemoglobin (%)'] < 5.7]\n",
    "normal_ghb"
   ]
  },
  {
   "cell_type": "code",
   "execution_count": 34,
   "metadata": {},
   "outputs": [
    {
     "data": {
      "text/html": [
       "<div>\n",
       "<style scoped>\n",
       "    .dataframe tbody tr th:only-of-type {\n",
       "        vertical-align: middle;\n",
       "    }\n",
       "\n",
       "    .dataframe tbody tr th {\n",
       "        vertical-align: top;\n",
       "    }\n",
       "\n",
       "    .dataframe thead th {\n",
       "        text-align: right;\n",
       "    }\n",
       "</style>\n",
       "<table border=\"1\" class=\"dataframe\">\n",
       "  <thead>\n",
       "    <tr style=\"text-align: right;\">\n",
       "      <th></th>\n",
       "      <th>Respondent sequence number</th>\n",
       "      <th>Glycohemoglobin (%)</th>\n",
       "    </tr>\n",
       "  </thead>\n",
       "  <tbody>\n",
       "    <tr>\n",
       "      <th>2</th>\n",
       "      <td>31131.0</td>\n",
       "      <td>6.0</td>\n",
       "    </tr>\n",
       "    <tr>\n",
       "      <th>5</th>\n",
       "      <td>31134.0</td>\n",
       "      <td>5.9</td>\n",
       "    </tr>\n",
       "    <tr>\n",
       "      <th>6</th>\n",
       "      <td>31137.0</td>\n",
       "      <td>5.7</td>\n",
       "    </tr>\n",
       "    <tr>\n",
       "      <th>14</th>\n",
       "      <td>31151.0</td>\n",
       "      <td>5.8</td>\n",
       "    </tr>\n",
       "    <tr>\n",
       "      <th>17</th>\n",
       "      <td>31154.0</td>\n",
       "      <td>6.1</td>\n",
       "    </tr>\n",
       "    <tr>\n",
       "      <th>...</th>\n",
       "      <td>...</td>\n",
       "      <td>...</td>\n",
       "    </tr>\n",
       "    <tr>\n",
       "      <th>6955</th>\n",
       "      <td>41440.0</td>\n",
       "      <td>5.8</td>\n",
       "    </tr>\n",
       "    <tr>\n",
       "      <th>6965</th>\n",
       "      <td>41458.0</td>\n",
       "      <td>6.0</td>\n",
       "    </tr>\n",
       "    <tr>\n",
       "      <th>6967</th>\n",
       "      <td>41460.0</td>\n",
       "      <td>5.7</td>\n",
       "    </tr>\n",
       "    <tr>\n",
       "      <th>6970</th>\n",
       "      <td>41464.0</td>\n",
       "      <td>5.7</td>\n",
       "    </tr>\n",
       "    <tr>\n",
       "      <th>6972</th>\n",
       "      <td>41466.0</td>\n",
       "      <td>5.7</td>\n",
       "    </tr>\n",
       "  </tbody>\n",
       "</table>\n",
       "<p>941 rows × 2 columns</p>\n",
       "</div>"
      ],
      "text/plain": [
       "      Respondent sequence number  Glycohemoglobin (%)\n",
       "2                        31131.0                  6.0\n",
       "5                        31134.0                  5.9\n",
       "6                        31137.0                  5.7\n",
       "14                       31151.0                  5.8\n",
       "17                       31154.0                  6.1\n",
       "...                          ...                  ...\n",
       "6955                     41440.0                  5.8\n",
       "6965                     41458.0                  6.0\n",
       "6967                     41460.0                  5.7\n",
       "6970                     41464.0                  5.7\n",
       "6972                     41466.0                  5.7\n",
       "\n",
       "[941 rows x 2 columns]"
      ]
     },
     "execution_count": 34,
     "metadata": {},
     "output_type": "execute_result"
    }
   ],
   "source": [
    "# prediabetic ghb - using logical operator &\n",
    "prediab_ghb = ghb.loc[ (ghb['Glycohemoglobin (%)'] >= 5.7) &\n",
    "                       (ghb['Glycohemoglobin (%)'] <= 6.4) ] \n",
    "prediab_ghb"
   ]
  },
  {
   "cell_type": "code",
   "execution_count": 35,
   "metadata": {},
   "outputs": [
    {
     "data": {
      "text/html": [
       "<div>\n",
       "<style scoped>\n",
       "    .dataframe tbody tr th:only-of-type {\n",
       "        vertical-align: middle;\n",
       "    }\n",
       "\n",
       "    .dataframe tbody tr th {\n",
       "        vertical-align: top;\n",
       "    }\n",
       "\n",
       "    .dataframe thead th {\n",
       "        text-align: right;\n",
       "    }\n",
       "</style>\n",
       "<table border=\"1\" class=\"dataframe\">\n",
       "  <thead>\n",
       "    <tr style=\"text-align: right;\">\n",
       "      <th></th>\n",
       "      <th>Respondent sequence number</th>\n",
       "      <th>Glycohemoglobin (%)</th>\n",
       "    </tr>\n",
       "  </thead>\n",
       "  <tbody>\n",
       "    <tr>\n",
       "      <th>3</th>\n",
       "      <td>31132.0</td>\n",
       "      <td>7.1</td>\n",
       "    </tr>\n",
       "    <tr>\n",
       "      <th>22</th>\n",
       "      <td>31162.0</td>\n",
       "      <td>7.3</td>\n",
       "    </tr>\n",
       "    <tr>\n",
       "      <th>37</th>\n",
       "      <td>31186.0</td>\n",
       "      <td>7.1</td>\n",
       "    </tr>\n",
       "    <tr>\n",
       "      <th>41</th>\n",
       "      <td>31192.0</td>\n",
       "      <td>8.7</td>\n",
       "    </tr>\n",
       "    <tr>\n",
       "      <th>43</th>\n",
       "      <td>31194.0</td>\n",
       "      <td>9.3</td>\n",
       "    </tr>\n",
       "    <tr>\n",
       "      <th>...</th>\n",
       "      <td>...</td>\n",
       "      <td>...</td>\n",
       "    </tr>\n",
       "    <tr>\n",
       "      <th>6914</th>\n",
       "      <td>41375.0</td>\n",
       "      <td>7.4</td>\n",
       "    </tr>\n",
       "    <tr>\n",
       "      <th>6931</th>\n",
       "      <td>41403.0</td>\n",
       "      <td>9.0</td>\n",
       "    </tr>\n",
       "    <tr>\n",
       "      <th>6948</th>\n",
       "      <td>41430.0</td>\n",
       "      <td>9.1</td>\n",
       "    </tr>\n",
       "    <tr>\n",
       "      <th>6963</th>\n",
       "      <td>41454.0</td>\n",
       "      <td>8.7</td>\n",
       "    </tr>\n",
       "    <tr>\n",
       "      <th>6974</th>\n",
       "      <td>41468.0</td>\n",
       "      <td>6.6</td>\n",
       "    </tr>\n",
       "  </tbody>\n",
       "</table>\n",
       "<p>394 rows × 2 columns</p>\n",
       "</div>"
      ],
      "text/plain": [
       "      Respondent sequence number  Glycohemoglobin (%)\n",
       "3                        31132.0                  7.1\n",
       "22                       31162.0                  7.3\n",
       "37                       31186.0                  7.1\n",
       "41                       31192.0                  8.7\n",
       "43                       31194.0                  9.3\n",
       "...                          ...                  ...\n",
       "6914                     41375.0                  7.4\n",
       "6931                     41403.0                  9.0\n",
       "6948                     41430.0                  9.1\n",
       "6963                     41454.0                  8.7\n",
       "6974                     41468.0                  6.6\n",
       "\n",
       "[394 rows x 2 columns]"
      ]
     },
     "execution_count": 35,
     "metadata": {},
     "output_type": "execute_result"
    }
   ],
   "source": [
    "# diabetic\n",
    "diab = ghb.loc[ ghb['Glycohemoglobin (%)'] > 6.4 ]\n",
    "diab"
   ]
  },
  {
   "attachments": {},
   "cell_type": "markdown",
   "metadata": {},
   "source": [
    "### - add the diabetic status col. to the df"
   ]
  },
  {
   "cell_type": "code",
   "execution_count": 36,
   "metadata": {},
   "outputs": [
    {
     "data": {
      "text/plain": [
       "array([5.2, nan, 6. , ..., 4.8, 5.5, 5.4])"
      ]
     },
     "execution_count": 36,
     "metadata": {},
     "output_type": "execute_result"
    }
   ],
   "source": [
    "# check the values of the ghb series\n",
    "x = ghb['Glycohemoglobin (%)'].values\n",
    "x"
   ]
  },
  {
   "cell_type": "code",
   "execution_count": 37,
   "metadata": {},
   "outputs": [
    {
     "data": {
      "text/plain": [
       "(array([ 3.8,  3.9,  4. ,  4.1,  4.2,  4.3,  4.4,  4.5,  4.6,  4.7,  4.8,\n",
       "         4.9,  5. ,  5.1,  5.2,  5.3,  5.4,  5.5,  5.6,  5.7,  5.8,  5.9,\n",
       "         6. ,  6.1,  6.2,  6.3,  6.4,  6.5,  6.6,  6.7,  6.8,  6.9,  7. ,\n",
       "         7.1,  7.2,  7.3,  7.4,  7.5,  7.6,  7.7,  7.8,  7.9,  8. ,  8.1,\n",
       "         8.2,  8.3,  8.4,  8.5,  8.6,  8.7,  8.8,  8.9,  9. ,  9.1,  9.2,\n",
       "         9.3,  9.4,  9.5,  9.6,  9.7,  9.8,  9.9, 10. , 10.1, 10.3, 10.5,\n",
       "        10.6, 10.7, 10.8, 10.9, 11. , 11.2, 11.3, 11.5, 11.6, 11.7, 11.8,\n",
       "        11.9, 12. , 12.1, 12.2, 12.3, 12.4, 12.5, 12.7, 12.8, 12.9, 13.2,\n",
       "        13.3, 13.4, 13.7, 13.9, 15.6,  nan]),\n",
       " array([  3,   2,   8,  12,  19,  31,  70,  96, 144, 225, 340, 431, 496,\n",
       "        630, 671, 616, 547, 438, 379, 294, 195, 137, 105,  75,  61,  39,\n",
       "         35,  38,  25,  25,  19,  15,  16,  15,   9,  16,   9,  14,   8,\n",
       "         10,   9,   6,   6,   6,  10,   4,   8,   6,   4,   8,   4,   7,\n",
       "          4,   2,   3,   4,   5,   6,   4,   1,   3,   3,   3,   2,   4,\n",
       "          2,   4,   1,   4,   3,   1,   5,   4,   4,   1,   4,   2,   2,\n",
       "          1,   1,   1,   1,   1,   1,   1,   1,   2,   1,   1,   1,   1,\n",
       "          1,   1, 487]))"
      ]
     },
     "execution_count": 37,
     "metadata": {},
     "output_type": "execute_result"
    }
   ],
   "source": [
    "# find the unique elements of the ghb series\n",
    "np.unique(x, return_counts=True)"
   ]
  },
  {
   "cell_type": "code",
   "execution_count": 38,
   "metadata": {},
   "outputs": [
    {
     "data": {
      "text/plain": [
       "array(['normal', 'missing', 'prediabetic', ..., 'normal', 'normal',\n",
       "       'normal'], dtype='<U11')"
      ]
     },
     "execution_count": 38,
     "metadata": {},
     "output_type": "execute_result"
    }
   ],
   "source": [
    "# def. diabetic status based on the value \n",
    "# np.isnan(x) for nan \n",
    "condlist = [x<5.7, x>6.4, np.isnan(x)]\n",
    "choicelist = ['normal', 'diabetic', 'missing']\n",
    "y = np.select(condlist, choicelist, 'prediabetic')\n",
    "y\n"
   ]
  },
  {
   "cell_type": "code",
   "execution_count": 39,
   "metadata": {},
   "outputs": [
    {
     "data": {
      "text/plain": [
       "(array(['diabetic', 'missing', 'normal', 'prediabetic'], dtype='<U11'),\n",
       " array([ 394,  487, 5158,  941]))"
      ]
     },
     "execution_count": 39,
     "metadata": {},
     "output_type": "execute_result"
    }
   ],
   "source": [
    "# double check: find the unique elements in the y array \n",
    "np.unique(y, return_counts=True)"
   ]
  },
  {
   "cell_type": "code",
   "execution_count": 40,
   "metadata": {},
   "outputs": [
    {
     "data": {
      "text/html": [
       "<div>\n",
       "<style scoped>\n",
       "    .dataframe tbody tr th:only-of-type {\n",
       "        vertical-align: middle;\n",
       "    }\n",
       "\n",
       "    .dataframe tbody tr th {\n",
       "        vertical-align: top;\n",
       "    }\n",
       "\n",
       "    .dataframe thead th {\n",
       "        text-align: right;\n",
       "    }\n",
       "</style>\n",
       "<table border=\"1\" class=\"dataframe\">\n",
       "  <thead>\n",
       "    <tr style=\"text-align: right;\">\n",
       "      <th></th>\n",
       "      <th>Respondent sequence number</th>\n",
       "      <th>Glycohemoglobin (%)</th>\n",
       "      <th>diabetic status</th>\n",
       "    </tr>\n",
       "  </thead>\n",
       "  <tbody>\n",
       "    <tr>\n",
       "      <th>0</th>\n",
       "      <td>31129.0</td>\n",
       "      <td>5.2</td>\n",
       "      <td>normal</td>\n",
       "    </tr>\n",
       "    <tr>\n",
       "      <th>1</th>\n",
       "      <td>31130.0</td>\n",
       "      <td>NaN</td>\n",
       "      <td>missing</td>\n",
       "    </tr>\n",
       "    <tr>\n",
       "      <th>2</th>\n",
       "      <td>31131.0</td>\n",
       "      <td>6.0</td>\n",
       "      <td>prediabetic</td>\n",
       "    </tr>\n",
       "    <tr>\n",
       "      <th>3</th>\n",
       "      <td>31132.0</td>\n",
       "      <td>7.1</td>\n",
       "      <td>diabetic</td>\n",
       "    </tr>\n",
       "    <tr>\n",
       "      <th>4</th>\n",
       "      <td>31133.0</td>\n",
       "      <td>4.7</td>\n",
       "      <td>normal</td>\n",
       "    </tr>\n",
       "    <tr>\n",
       "      <th>...</th>\n",
       "      <td>...</td>\n",
       "      <td>...</td>\n",
       "      <td>...</td>\n",
       "    </tr>\n",
       "    <tr>\n",
       "      <th>6975</th>\n",
       "      <td>41469.0</td>\n",
       "      <td>5.6</td>\n",
       "      <td>normal</td>\n",
       "    </tr>\n",
       "    <tr>\n",
       "      <th>6976</th>\n",
       "      <td>41471.0</td>\n",
       "      <td>5.4</td>\n",
       "      <td>normal</td>\n",
       "    </tr>\n",
       "    <tr>\n",
       "      <th>6977</th>\n",
       "      <td>41472.0</td>\n",
       "      <td>4.8</td>\n",
       "      <td>normal</td>\n",
       "    </tr>\n",
       "    <tr>\n",
       "      <th>6978</th>\n",
       "      <td>41473.0</td>\n",
       "      <td>5.5</td>\n",
       "      <td>normal</td>\n",
       "    </tr>\n",
       "    <tr>\n",
       "      <th>6979</th>\n",
       "      <td>41474.0</td>\n",
       "      <td>5.4</td>\n",
       "      <td>normal</td>\n",
       "    </tr>\n",
       "  </tbody>\n",
       "</table>\n",
       "<p>6980 rows × 3 columns</p>\n",
       "</div>"
      ],
      "text/plain": [
       "      Respondent sequence number  Glycohemoglobin (%) diabetic status\n",
       "0                        31129.0                  5.2          normal\n",
       "1                        31130.0                  NaN         missing\n",
       "2                        31131.0                  6.0     prediabetic\n",
       "3                        31132.0                  7.1        diabetic\n",
       "4                        31133.0                  4.7          normal\n",
       "...                          ...                  ...             ...\n",
       "6975                     41469.0                  5.6          normal\n",
       "6976                     41471.0                  5.4          normal\n",
       "6977                     41472.0                  4.8          normal\n",
       "6978                     41473.0                  5.5          normal\n",
       "6979                     41474.0                  5.4          normal\n",
       "\n",
       "[6980 rows x 3 columns]"
      ]
     },
     "execution_count": 40,
     "metadata": {},
     "output_type": "execute_result"
    }
   ],
   "source": [
    "# add the col to the df\n",
    "ghb['diabetic status'] = y\n",
    "ghb"
   ]
  },
  {
   "attachments": {},
   "cell_type": "markdown",
   "metadata": {},
   "source": [
    "### - generate a summary stat of mean, median, var. std"
   ]
  },
  {
   "cell_type": "code",
   "execution_count": 41,
   "metadata": {},
   "outputs": [
    {
     "data": {
      "text/plain": [
       "diabetic status\n",
       "diabetic       8.158122\n",
       "missing             NaN\n",
       "normal         5.127860\n",
       "prediabetic    5.898512\n",
       "Name: Glycohemoglobin (%), dtype: float64"
      ]
     },
     "execution_count": 41,
     "metadata": {},
     "output_type": "execute_result"
    }
   ],
   "source": [
    "# mean \n",
    "means = ghb.groupby('diabetic status')['Glycohemoglobin (%)'].mean()\n",
    "means"
   ]
  },
  {
   "cell_type": "code",
   "execution_count": 42,
   "metadata": {},
   "outputs": [
    {
     "data": {
      "text/html": [
       "<div>\n",
       "<style scoped>\n",
       "    .dataframe tbody tr th:only-of-type {\n",
       "        vertical-align: middle;\n",
       "    }\n",
       "\n",
       "    .dataframe tbody tr th {\n",
       "        vertical-align: top;\n",
       "    }\n",
       "\n",
       "    .dataframe thead th {\n",
       "        text-align: right;\n",
       "    }\n",
       "</style>\n",
       "<table border=\"1\" class=\"dataframe\">\n",
       "  <thead>\n",
       "    <tr style=\"text-align: right;\">\n",
       "      <th></th>\n",
       "      <th>count</th>\n",
       "      <th>mean</th>\n",
       "      <th>std</th>\n",
       "      <th>min</th>\n",
       "      <th>25%</th>\n",
       "      <th>50%</th>\n",
       "      <th>75%</th>\n",
       "      <th>max</th>\n",
       "      <th>sem</th>\n",
       "    </tr>\n",
       "    <tr>\n",
       "      <th>diabetic status</th>\n",
       "      <th></th>\n",
       "      <th></th>\n",
       "      <th></th>\n",
       "      <th></th>\n",
       "      <th></th>\n",
       "      <th></th>\n",
       "      <th></th>\n",
       "      <th></th>\n",
       "      <th></th>\n",
       "    </tr>\n",
       "  </thead>\n",
       "  <tbody>\n",
       "    <tr>\n",
       "      <th>diabetic</th>\n",
       "      <td>394.0</td>\n",
       "      <td>8.158122</td>\n",
       "      <td>1.741135</td>\n",
       "      <td>6.5</td>\n",
       "      <td>6.8</td>\n",
       "      <td>7.5</td>\n",
       "      <td>8.9</td>\n",
       "      <td>15.6</td>\n",
       "      <td>0.087717</td>\n",
       "    </tr>\n",
       "    <tr>\n",
       "      <th>missing</th>\n",
       "      <td>0.0</td>\n",
       "      <td>NaN</td>\n",
       "      <td>NaN</td>\n",
       "      <td>NaN</td>\n",
       "      <td>NaN</td>\n",
       "      <td>NaN</td>\n",
       "      <td>NaN</td>\n",
       "      <td>NaN</td>\n",
       "      <td>NaN</td>\n",
       "    </tr>\n",
       "    <tr>\n",
       "      <th>normal</th>\n",
       "      <td>5158.0</td>\n",
       "      <td>5.127860</td>\n",
       "      <td>0.311354</td>\n",
       "      <td>3.8</td>\n",
       "      <td>4.9</td>\n",
       "      <td>5.2</td>\n",
       "      <td>5.4</td>\n",
       "      <td>5.6</td>\n",
       "      <td>0.004335</td>\n",
       "    </tr>\n",
       "    <tr>\n",
       "      <th>prediabetic</th>\n",
       "      <td>941.0</td>\n",
       "      <td>5.898512</td>\n",
       "      <td>0.201689</td>\n",
       "      <td>5.7</td>\n",
       "      <td>5.7</td>\n",
       "      <td>5.8</td>\n",
       "      <td>6.0</td>\n",
       "      <td>6.4</td>\n",
       "      <td>0.006575</td>\n",
       "    </tr>\n",
       "  </tbody>\n",
       "</table>\n",
       "</div>"
      ],
      "text/plain": [
       "                  count      mean       std  min  25%  50%  75%   max  \\\n",
       "diabetic status                                                         \n",
       "diabetic          394.0  8.158122  1.741135  6.5  6.8  7.5  8.9  15.6   \n",
       "missing             0.0       NaN       NaN  NaN  NaN  NaN  NaN   NaN   \n",
       "normal           5158.0  5.127860  0.311354  3.8  4.9  5.2  5.4   5.6   \n",
       "prediabetic       941.0  5.898512  0.201689  5.7  5.7  5.8  6.0   6.4   \n",
       "\n",
       "                      sem  \n",
       "diabetic status            \n",
       "diabetic         0.087717  \n",
       "missing               NaN  \n",
       "normal           0.004335  \n",
       "prediabetic      0.006575  "
      ]
     },
     "execution_count": 42,
     "metadata": {},
     "output_type": "execute_result"
    }
   ],
   "source": [
    "# sum. stat\n",
    "import numpy as np\n",
    "sum_stat = ghb.groupby('diabetic status')['Glycohemoglobin (%)'].describe()\n",
    "sum_stat['sem']=sum_stat['std']/np.sqrt(sum_stat['count'])\n",
    "sum_stat"
   ]
  },
  {
   "attachments": {},
   "cell_type": "markdown",
   "metadata": {},
   "source": [
    "### - bar and pie charts"
   ]
  },
  {
   "cell_type": "code",
   "execution_count": 43,
   "metadata": {},
   "outputs": [
    {
     "data": {
      "text/plain": [
       "normal         5158\n",
       "prediabetic     941\n",
       "missing         487\n",
       "diabetic        394\n",
       "Name: diabetic status, dtype: int64"
      ]
     },
     "execution_count": 43,
     "metadata": {},
     "output_type": "execute_result"
    }
   ],
   "source": [
    "# value count of diabetic status\n",
    "count = ghb['diabetic status'].value_counts()\n",
    "count"
   ]
  },
  {
   "cell_type": "code",
   "execution_count": 44,
   "metadata": {},
   "outputs": [
    {
     "data": {
      "text/plain": [
       "Text(0, 0.5, 'number of people')"
      ]
     },
     "execution_count": 44,
     "metadata": {},
     "output_type": "execute_result"
    },
    {
     "data": {
      "image/png": "[encoded data removed]",
      "text/plain": [
       "<Figure size 432x288 with 1 Axes>"
      ]
     },
     "metadata": {
      "needs_background": "light"
     },
     "output_type": "display_data"
    }
   ],
   "source": [
    "# bar graph of diabetic status count\n",
    "count.plot(kind='bar')\n",
    "# f, ax = plt.subplots(figsize=(4,10))\n",
    "plt.xlabel('diabetic status')\n",
    "plt.xticks(rotation=60)\n",
    "plt.ylabel('number of people')\n",
    "# plt.figure(figsize=(0,6))\n"
   ]
  },
  {
   "cell_type": "code",
   "execution_count": 45,
   "metadata": {},
   "outputs": [
    {
     "data": {
      "text/plain": [
       "<AxesSubplot:ylabel='diabetic status'>"
      ]
     },
     "execution_count": 45,
     "metadata": {},
     "output_type": "execute_result"
    },
    {
     "data": {
      "image/png": "[encoded data removed]",
      "text/plain": [
       "<Figure size 432x288 with 1 Axes>"
      ]
     },
     "metadata": {},
     "output_type": "display_data"
    }
   ],
   "source": [
    "# pie graph of diabetic status count\n",
    "count.plot(kind='pie', autopct='%1.1f%%')"
   ]
  },
  {
   "attachments": {},
   "cell_type": "markdown",
   "metadata": {},
   "source": [
    "---\n",
    "### - merge glocohemoglobin into the exam_df"
   ]
  },
  {
   "cell_type": "code",
   "execution_count": 46,
   "metadata": {},
   "outputs": [
    {
     "data": {
      "text/html": [
       "<div>\n",
       "<style scoped>\n",
       "    .dataframe tbody tr th:only-of-type {\n",
       "        vertical-align: middle;\n",
       "    }\n",
       "\n",
       "    .dataframe tbody tr th {\n",
       "        vertical-align: top;\n",
       "    }\n",
       "\n",
       "    .dataframe thead th {\n",
       "        text-align: right;\n",
       "    }\n",
       "</style>\n",
       "<table border=\"1\" class=\"dataframe\">\n",
       "  <thead>\n",
       "    <tr style=\"text-align: right;\">\n",
       "      <th></th>\n",
       "      <th>Respondent sequence number</th>\n",
       "      <th>Total cholesterol (mg/dL)</th>\n",
       "      <th>Direct HDL-Cholesterol (mg/dL)</th>\n",
       "      <th>Triglyceride (mg/dL)</th>\n",
       "      <th>LDL-cholesterol (mg/dL)</th>\n",
       "      <th>Apolipoprotein (B) (mg/dL)</th>\n",
       "      <th>C-reactive protein(mg/dL)</th>\n",
       "      <th>Glycohemoglobin (%)</th>\n",
       "      <th>diabetic status</th>\n",
       "    </tr>\n",
       "  </thead>\n",
       "  <tbody>\n",
       "    <tr>\n",
       "      <th>0</th>\n",
       "      <td>31130.0</td>\n",
       "      <td>NaN</td>\n",
       "      <td>NaN</td>\n",
       "      <td>NaN</td>\n",
       "      <td>NaN</td>\n",
       "      <td>NaN</td>\n",
       "      <td>NaN</td>\n",
       "      <td>NaN</td>\n",
       "      <td>missing</td>\n",
       "    </tr>\n",
       "    <tr>\n",
       "      <th>1</th>\n",
       "      <td>31131.0</td>\n",
       "      <td>105.0</td>\n",
       "      <td>39.0</td>\n",
       "      <td>86.0</td>\n",
       "      <td>49.0</td>\n",
       "      <td>50.0</td>\n",
       "      <td>2.44</td>\n",
       "      <td>6.0</td>\n",
       "      <td>prediabetic</td>\n",
       "    </tr>\n",
       "    <tr>\n",
       "      <th>2</th>\n",
       "      <td>31132.0</td>\n",
       "      <td>147.0</td>\n",
       "      <td>59.0</td>\n",
       "      <td>65.0</td>\n",
       "      <td>75.0</td>\n",
       "      <td>75.0</td>\n",
       "      <td>0.05</td>\n",
       "      <td>7.1</td>\n",
       "      <td>diabetic</td>\n",
       "    </tr>\n",
       "    <tr>\n",
       "      <th>3</th>\n",
       "      <td>31133.0</td>\n",
       "      <td>147.0</td>\n",
       "      <td>54.0</td>\n",
       "      <td>61.0</td>\n",
       "      <td>81.0</td>\n",
       "      <td>75.0</td>\n",
       "      <td>0.09</td>\n",
       "      <td>4.7</td>\n",
       "      <td>normal</td>\n",
       "    </tr>\n",
       "    <tr>\n",
       "      <th>4</th>\n",
       "      <td>31134.0</td>\n",
       "      <td>186.0</td>\n",
       "      <td>49.0</td>\n",
       "      <td>195.0</td>\n",
       "      <td>98.0</td>\n",
       "      <td>111.0</td>\n",
       "      <td>0.21</td>\n",
       "      <td>5.9</td>\n",
       "      <td>prediabetic</td>\n",
       "    </tr>\n",
       "  </tbody>\n",
       "</table>\n",
       "</div>"
      ],
      "text/plain": [
       "   Respondent sequence number  Total cholesterol (mg/dL)  \\\n",
       "0                     31130.0                        NaN   \n",
       "1                     31131.0                      105.0   \n",
       "2                     31132.0                      147.0   \n",
       "3                     31133.0                      147.0   \n",
       "4                     31134.0                      186.0   \n",
       "\n",
       "   Direct HDL-Cholesterol (mg/dL)  Triglyceride (mg/dL)  \\\n",
       "0                             NaN                   NaN   \n",
       "1                            39.0                  86.0   \n",
       "2                            59.0                  65.0   \n",
       "3                            54.0                  61.0   \n",
       "4                            49.0                 195.0   \n",
       "\n",
       "   LDL-cholesterol (mg/dL)  Apolipoprotein (B) (mg/dL)  \\\n",
       "0                      NaN                         NaN   \n",
       "1                     49.0                        50.0   \n",
       "2                     75.0                        75.0   \n",
       "3                     81.0                        75.0   \n",
       "4                     98.0                       111.0   \n",
       "\n",
       "   C-reactive protein(mg/dL)  Glycohemoglobin (%) diabetic status  \n",
       "0                        NaN                  NaN         missing  \n",
       "1                       2.44                  6.0     prediabetic  \n",
       "2                       0.05                  7.1        diabetic  \n",
       "3                       0.09                  4.7          normal  \n",
       "4                       0.21                  5.9     prediabetic  "
      ]
     },
     "execution_count": 46,
     "metadata": {},
     "output_type": "execute_result"
    }
   ],
   "source": [
    "# merge\n",
    "exam_df = exam_df.merge(ghb, on='Respondent sequence number')\n",
    "exam_df.head()"
   ]
  },
  {
   "attachments": {},
   "cell_type": "markdown",
   "metadata": {},
   "source": [
    "---\n",
    "## 6. Plasma Fasting Glucose & Insulin (GLU_D)\n",
    "\n",
    "- Data File: GLU_D.xpt\n",
    "- https://wwwn.cdc.gov/Nchs/Nhanes/2005-2006/GLU_D.htm\n"
   ]
  },
  {
   "cell_type": "code",
   "execution_count": 47,
   "metadata": {},
   "outputs": [
    {
     "data": {
      "text/html": [
       "<div>\n",
       "<style scoped>\n",
       "    .dataframe tbody tr th:only-of-type {\n",
       "        vertical-align: middle;\n",
       "    }\n",
       "\n",
       "    .dataframe tbody tr th {\n",
       "        vertical-align: top;\n",
       "    }\n",
       "\n",
       "    .dataframe thead th {\n",
       "        text-align: right;\n",
       "    }\n",
       "</style>\n",
       "<table border=\"1\" class=\"dataframe\">\n",
       "  <thead>\n",
       "    <tr style=\"text-align: right;\">\n",
       "      <th></th>\n",
       "      <th>SEQN</th>\n",
       "      <th>WTSAF2YR</th>\n",
       "      <th>LBXGLU</th>\n",
       "      <th>LBDGLUSI</th>\n",
       "      <th>LBXIN</th>\n",
       "      <th>LBDINSI</th>\n",
       "      <th>PHAFSTHR</th>\n",
       "      <th>PHAFSTMN</th>\n",
       "    </tr>\n",
       "  </thead>\n",
       "  <tbody>\n",
       "    <tr>\n",
       "      <th>0</th>\n",
       "      <td>31130.0</td>\n",
       "      <td>5.397605e-79</td>\n",
       "      <td>NaN</td>\n",
       "      <td>NaN</td>\n",
       "      <td>NaN</td>\n",
       "      <td>NaN</td>\n",
       "      <td>10.0</td>\n",
       "      <td>3.0</td>\n",
       "    </tr>\n",
       "    <tr>\n",
       "      <th>1</th>\n",
       "      <td>31131.0</td>\n",
       "      <td>6.755681e+04</td>\n",
       "      <td>90.0</td>\n",
       "      <td>4.996</td>\n",
       "      <td>10.03</td>\n",
       "      <td>60.18</td>\n",
       "      <td>14.0</td>\n",
       "      <td>9.0</td>\n",
       "    </tr>\n",
       "    <tr>\n",
       "      <th>2</th>\n",
       "      <td>31132.0</td>\n",
       "      <td>8.019396e+04</td>\n",
       "      <td>157.0</td>\n",
       "      <td>8.715</td>\n",
       "      <td>8.99</td>\n",
       "      <td>53.94</td>\n",
       "      <td>11.0</td>\n",
       "      <td>29.0</td>\n",
       "    </tr>\n",
       "    <tr>\n",
       "      <th>3</th>\n",
       "      <td>31133.0</td>\n",
       "      <td>1.566802e+04</td>\n",
       "      <td>84.0</td>\n",
       "      <td>4.663</td>\n",
       "      <td>11.27</td>\n",
       "      <td>67.62</td>\n",
       "      <td>12.0</td>\n",
       "      <td>32.0</td>\n",
       "    </tr>\n",
       "    <tr>\n",
       "      <th>4</th>\n",
       "      <td>31134.0</td>\n",
       "      <td>9.339954e+04</td>\n",
       "      <td>100.0</td>\n",
       "      <td>5.551</td>\n",
       "      <td>14.51</td>\n",
       "      <td>87.06</td>\n",
       "      <td>14.0</td>\n",
       "      <td>35.0</td>\n",
       "    </tr>\n",
       "    <tr>\n",
       "      <th>...</th>\n",
       "      <td>...</td>\n",
       "      <td>...</td>\n",
       "      <td>...</td>\n",
       "      <td>...</td>\n",
       "      <td>...</td>\n",
       "      <td>...</td>\n",
       "      <td>...</td>\n",
       "      <td>...</td>\n",
       "    </tr>\n",
       "    <tr>\n",
       "      <th>3347</th>\n",
       "      <td>41465.0</td>\n",
       "      <td>2.185943e+04</td>\n",
       "      <td>101.0</td>\n",
       "      <td>5.607</td>\n",
       "      <td>57.09</td>\n",
       "      <td>342.54</td>\n",
       "      <td>11.0</td>\n",
       "      <td>20.0</td>\n",
       "    </tr>\n",
       "    <tr>\n",
       "      <th>3348</th>\n",
       "      <td>41467.0</td>\n",
       "      <td>8.000729e+03</td>\n",
       "      <td>98.0</td>\n",
       "      <td>5.440</td>\n",
       "      <td>14.47</td>\n",
       "      <td>86.82</td>\n",
       "      <td>11.0</td>\n",
       "      <td>23.0</td>\n",
       "    </tr>\n",
       "    <tr>\n",
       "      <th>3349</th>\n",
       "      <td>41471.0</td>\n",
       "      <td>1.627432e+04</td>\n",
       "      <td>92.0</td>\n",
       "      <td>5.107</td>\n",
       "      <td>5.19</td>\n",
       "      <td>31.14</td>\n",
       "      <td>11.0</td>\n",
       "      <td>1.0</td>\n",
       "    </tr>\n",
       "    <tr>\n",
       "      <th>3350</th>\n",
       "      <td>41472.0</td>\n",
       "      <td>1.753953e+05</td>\n",
       "      <td>97.0</td>\n",
       "      <td>5.384</td>\n",
       "      <td>16.34</td>\n",
       "      <td>98.04</td>\n",
       "      <td>13.0</td>\n",
       "      <td>38.0</td>\n",
       "    </tr>\n",
       "    <tr>\n",
       "      <th>3351</th>\n",
       "      <td>41474.0</td>\n",
       "      <td>1.712298e+04</td>\n",
       "      <td>93.0</td>\n",
       "      <td>5.162</td>\n",
       "      <td>20.12</td>\n",
       "      <td>120.72</td>\n",
       "      <td>9.0</td>\n",
       "      <td>39.0</td>\n",
       "    </tr>\n",
       "  </tbody>\n",
       "</table>\n",
       "<p>3352 rows × 8 columns</p>\n",
       "</div>"
      ],
      "text/plain": [
       "         SEQN      WTSAF2YR  LBXGLU  LBDGLUSI  LBXIN  LBDINSI  PHAFSTHR  \\\n",
       "0     31130.0  5.397605e-79     NaN       NaN    NaN      NaN      10.0   \n",
       "1     31131.0  6.755681e+04    90.0     4.996  10.03    60.18      14.0   \n",
       "2     31132.0  8.019396e+04   157.0     8.715   8.99    53.94      11.0   \n",
       "3     31133.0  1.566802e+04    84.0     4.663  11.27    67.62      12.0   \n",
       "4     31134.0  9.339954e+04   100.0     5.551  14.51    87.06      14.0   \n",
       "...       ...           ...     ...       ...    ...      ...       ...   \n",
       "3347  41465.0  2.185943e+04   101.0     5.607  57.09   342.54      11.0   \n",
       "3348  41467.0  8.000729e+03    98.0     5.440  14.47    86.82      11.0   \n",
       "3349  41471.0  1.627432e+04    92.0     5.107   5.19    31.14      11.0   \n",
       "3350  41472.0  1.753953e+05    97.0     5.384  16.34    98.04      13.0   \n",
       "3351  41474.0  1.712298e+04    93.0     5.162  20.12   120.72       9.0   \n",
       "\n",
       "      PHAFSTMN  \n",
       "0          3.0  \n",
       "1          9.0  \n",
       "2         29.0  \n",
       "3         32.0  \n",
       "4         35.0  \n",
       "...        ...  \n",
       "3347      20.0  \n",
       "3348      23.0  \n",
       "3349       1.0  \n",
       "3350      38.0  \n",
       "3351      39.0  \n",
       "\n",
       "[3352 rows x 8 columns]"
      ]
     },
     "execution_count": 47,
     "metadata": {},
     "output_type": "execute_result"
    }
   ],
   "source": [
    "glu = pd.read_sas('resources/GLU_D.XPT')\n",
    "glu"
   ]
  },
  {
   "cell_type": "code",
   "execution_count": 48,
   "metadata": {},
   "outputs": [
    {
     "data": {
      "text/html": [
       "<div>\n",
       "<style scoped>\n",
       "    .dataframe tbody tr th:only-of-type {\n",
       "        vertical-align: middle;\n",
       "    }\n",
       "\n",
       "    .dataframe tbody tr th {\n",
       "        vertical-align: top;\n",
       "    }\n",
       "\n",
       "    .dataframe thead th {\n",
       "        text-align: right;\n",
       "    }\n",
       "</style>\n",
       "<table border=\"1\" class=\"dataframe\">\n",
       "  <thead>\n",
       "    <tr style=\"text-align: right;\">\n",
       "      <th></th>\n",
       "      <th>SEQN</th>\n",
       "      <th>Fasting Subsample 2 Year MEC Weight</th>\n",
       "      <th>Fasting Glucose (mg/dL)</th>\n",
       "      <th>Fasting Glucose (mmol/L)</th>\n",
       "      <th>Insulin (uU/mL)</th>\n",
       "      <th>Insulin (pmol/L)</th>\n",
       "      <th>Total length of 'food fast', hours</th>\n",
       "      <th>Total length of 'food fast', minutes})</th>\n",
       "    </tr>\n",
       "  </thead>\n",
       "  <tbody>\n",
       "    <tr>\n",
       "      <th>0</th>\n",
       "      <td>31130.0</td>\n",
       "      <td>5.397605e-79</td>\n",
       "      <td>NaN</td>\n",
       "      <td>NaN</td>\n",
       "      <td>NaN</td>\n",
       "      <td>NaN</td>\n",
       "      <td>10.0</td>\n",
       "      <td>3.0</td>\n",
       "    </tr>\n",
       "    <tr>\n",
       "      <th>1</th>\n",
       "      <td>31131.0</td>\n",
       "      <td>6.755681e+04</td>\n",
       "      <td>90.0</td>\n",
       "      <td>4.996</td>\n",
       "      <td>10.03</td>\n",
       "      <td>60.18</td>\n",
       "      <td>14.0</td>\n",
       "      <td>9.0</td>\n",
       "    </tr>\n",
       "    <tr>\n",
       "      <th>2</th>\n",
       "      <td>31132.0</td>\n",
       "      <td>8.019396e+04</td>\n",
       "      <td>157.0</td>\n",
       "      <td>8.715</td>\n",
       "      <td>8.99</td>\n",
       "      <td>53.94</td>\n",
       "      <td>11.0</td>\n",
       "      <td>29.0</td>\n",
       "    </tr>\n",
       "    <tr>\n",
       "      <th>3</th>\n",
       "      <td>31133.0</td>\n",
       "      <td>1.566802e+04</td>\n",
       "      <td>84.0</td>\n",
       "      <td>4.663</td>\n",
       "      <td>11.27</td>\n",
       "      <td>67.62</td>\n",
       "      <td>12.0</td>\n",
       "      <td>32.0</td>\n",
       "    </tr>\n",
       "    <tr>\n",
       "      <th>4</th>\n",
       "      <td>31134.0</td>\n",
       "      <td>9.339954e+04</td>\n",
       "      <td>100.0</td>\n",
       "      <td>5.551</td>\n",
       "      <td>14.51</td>\n",
       "      <td>87.06</td>\n",
       "      <td>14.0</td>\n",
       "      <td>35.0</td>\n",
       "    </tr>\n",
       "    <tr>\n",
       "      <th>...</th>\n",
       "      <td>...</td>\n",
       "      <td>...</td>\n",
       "      <td>...</td>\n",
       "      <td>...</td>\n",
       "      <td>...</td>\n",
       "      <td>...</td>\n",
       "      <td>...</td>\n",
       "      <td>...</td>\n",
       "    </tr>\n",
       "    <tr>\n",
       "      <th>3347</th>\n",
       "      <td>41465.0</td>\n",
       "      <td>2.185943e+04</td>\n",
       "      <td>101.0</td>\n",
       "      <td>5.607</td>\n",
       "      <td>57.09</td>\n",
       "      <td>342.54</td>\n",
       "      <td>11.0</td>\n",
       "      <td>20.0</td>\n",
       "    </tr>\n",
       "    <tr>\n",
       "      <th>3348</th>\n",
       "      <td>41467.0</td>\n",
       "      <td>8.000729e+03</td>\n",
       "      <td>98.0</td>\n",
       "      <td>5.440</td>\n",
       "      <td>14.47</td>\n",
       "      <td>86.82</td>\n",
       "      <td>11.0</td>\n",
       "      <td>23.0</td>\n",
       "    </tr>\n",
       "    <tr>\n",
       "      <th>3349</th>\n",
       "      <td>41471.0</td>\n",
       "      <td>1.627432e+04</td>\n",
       "      <td>92.0</td>\n",
       "      <td>5.107</td>\n",
       "      <td>5.19</td>\n",
       "      <td>31.14</td>\n",
       "      <td>11.0</td>\n",
       "      <td>1.0</td>\n",
       "    </tr>\n",
       "    <tr>\n",
       "      <th>3350</th>\n",
       "      <td>41472.0</td>\n",
       "      <td>1.753953e+05</td>\n",
       "      <td>97.0</td>\n",
       "      <td>5.384</td>\n",
       "      <td>16.34</td>\n",
       "      <td>98.04</td>\n",
       "      <td>13.0</td>\n",
       "      <td>38.0</td>\n",
       "    </tr>\n",
       "    <tr>\n",
       "      <th>3351</th>\n",
       "      <td>41474.0</td>\n",
       "      <td>1.712298e+04</td>\n",
       "      <td>93.0</td>\n",
       "      <td>5.162</td>\n",
       "      <td>20.12</td>\n",
       "      <td>120.72</td>\n",
       "      <td>9.0</td>\n",
       "      <td>39.0</td>\n",
       "    </tr>\n",
       "  </tbody>\n",
       "</table>\n",
       "<p>3352 rows × 8 columns</p>\n",
       "</div>"
      ],
      "text/plain": [
       "         SEQN  Fasting Subsample 2 Year MEC Weight  Fasting Glucose (mg/dL)  \\\n",
       "0     31130.0                         5.397605e-79                      NaN   \n",
       "1     31131.0                         6.755681e+04                     90.0   \n",
       "2     31132.0                         8.019396e+04                    157.0   \n",
       "3     31133.0                         1.566802e+04                     84.0   \n",
       "4     31134.0                         9.339954e+04                    100.0   \n",
       "...       ...                                  ...                      ...   \n",
       "3347  41465.0                         2.185943e+04                    101.0   \n",
       "3348  41467.0                         8.000729e+03                     98.0   \n",
       "3349  41471.0                         1.627432e+04                     92.0   \n",
       "3350  41472.0                         1.753953e+05                     97.0   \n",
       "3351  41474.0                         1.712298e+04                     93.0   \n",
       "\n",
       "      Fasting Glucose (mmol/L)  Insulin (uU/mL)  Insulin (pmol/L)  \\\n",
       "0                          NaN              NaN               NaN   \n",
       "1                        4.996            10.03             60.18   \n",
       "2                        8.715             8.99             53.94   \n",
       "3                        4.663            11.27             67.62   \n",
       "4                        5.551            14.51             87.06   \n",
       "...                        ...              ...               ...   \n",
       "3347                     5.607            57.09            342.54   \n",
       "3348                     5.440            14.47             86.82   \n",
       "3349                     5.107             5.19             31.14   \n",
       "3350                     5.384            16.34             98.04   \n",
       "3351                     5.162            20.12            120.72   \n",
       "\n",
       "      Total length of 'food fast', hours  \\\n",
       "0                                   10.0   \n",
       "1                                   14.0   \n",
       "2                                   11.0   \n",
       "3                                   12.0   \n",
       "4                                   14.0   \n",
       "...                                  ...   \n",
       "3347                                11.0   \n",
       "3348                                11.0   \n",
       "3349                                11.0   \n",
       "3350                                13.0   \n",
       "3351                                 9.0   \n",
       "\n",
       "      Total length of 'food fast', minutes})  \n",
       "0                                        3.0  \n",
       "1                                        9.0  \n",
       "2                                       29.0  \n",
       "3                                       32.0  \n",
       "4                                       35.0  \n",
       "...                                      ...  \n",
       "3347                                    20.0  \n",
       "3348                                    23.0  \n",
       "3349                                     1.0  \n",
       "3350                                    38.0  \n",
       "3351                                    39.0  \n",
       "\n",
       "[3352 rows x 8 columns]"
      ]
     },
     "execution_count": 48,
     "metadata": {},
     "output_type": "execute_result"
    }
   ],
   "source": [
    "glu = glu.rename(columns=\n",
    "              {' SEQN' : 'Respondent sequence number',\n",
    "              'WTSAF2YR' : 'Fasting Subsample 2 Year MEC Weight',\n",
    "              'LBXGLU' : 'Fasting Glucose (mg/dL)',\n",
    "              'LBDGLUSI' : 'Fasting Glucose (mmol/L)',\n",
    "              'LBXIN' : 'Insulin (uU/mL)',\n",
    "              'LBDINSI' : 'Insulin (pmol/L)',\n",
    "              'PHAFSTHR' : \"Total length of 'food fast', hours\",\n",
    "              'PHAFSTMN' : \"Total length of 'food fast', minutes})\" }\n",
    ")\n",
    "glu"
   ]
  },
  {
   "cell_type": "code",
   "execution_count": 49,
   "metadata": {},
   "outputs": [
    {
     "data": {
      "text/plain": [
       "Index(['SEQN', 'Fasting Subsample 2 Year MEC Weight',\n",
       "       'Fasting Glucose (mg/dL)', 'Fasting Glucose (mmol/L)',\n",
       "       'Insulin (uU/mL)', 'Insulin (pmol/L)',\n",
       "       'Total length of 'food fast', hours',\n",
       "       'Total length of 'food fast', minutes})'],\n",
       "      dtype='object')"
      ]
     },
     "execution_count": 49,
     "metadata": {},
     "output_type": "execute_result"
    }
   ],
   "source": [
    "glu.columns"
   ]
  },
  {
   "cell_type": "code",
   "execution_count": 50,
   "metadata": {},
   "outputs": [
    {
     "data": {
      "text/html": [
       "<div>\n",
       "<style scoped>\n",
       "    .dataframe tbody tr th:only-of-type {\n",
       "        vertical-align: middle;\n",
       "    }\n",
       "\n",
       "    .dataframe tbody tr th {\n",
       "        vertical-align: top;\n",
       "    }\n",
       "\n",
       "    .dataframe thead th {\n",
       "        text-align: right;\n",
       "    }\n",
       "</style>\n",
       "<table border=\"1\" class=\"dataframe\">\n",
       "  <thead>\n",
       "    <tr style=\"text-align: right;\">\n",
       "      <th></th>\n",
       "      <th>SEQN</th>\n",
       "      <th>Fasting Glucose (mg/dL)</th>\n",
       "      <th>Insulin (uU/mL)</th>\n",
       "      <th>Total length of 'food fast', hours</th>\n",
       "    </tr>\n",
       "  </thead>\n",
       "  <tbody>\n",
       "    <tr>\n",
       "      <th>0</th>\n",
       "      <td>31130.0</td>\n",
       "      <td>NaN</td>\n",
       "      <td>NaN</td>\n",
       "      <td>10.0</td>\n",
       "    </tr>\n",
       "    <tr>\n",
       "      <th>1</th>\n",
       "      <td>31131.0</td>\n",
       "      <td>90.0</td>\n",
       "      <td>10.03</td>\n",
       "      <td>14.0</td>\n",
       "    </tr>\n",
       "    <tr>\n",
       "      <th>2</th>\n",
       "      <td>31132.0</td>\n",
       "      <td>157.0</td>\n",
       "      <td>8.99</td>\n",
       "      <td>11.0</td>\n",
       "    </tr>\n",
       "    <tr>\n",
       "      <th>3</th>\n",
       "      <td>31133.0</td>\n",
       "      <td>84.0</td>\n",
       "      <td>11.27</td>\n",
       "      <td>12.0</td>\n",
       "    </tr>\n",
       "    <tr>\n",
       "      <th>4</th>\n",
       "      <td>31134.0</td>\n",
       "      <td>100.0</td>\n",
       "      <td>14.51</td>\n",
       "      <td>14.0</td>\n",
       "    </tr>\n",
       "    <tr>\n",
       "      <th>...</th>\n",
       "      <td>...</td>\n",
       "      <td>...</td>\n",
       "      <td>...</td>\n",
       "      <td>...</td>\n",
       "    </tr>\n",
       "    <tr>\n",
       "      <th>3347</th>\n",
       "      <td>41465.0</td>\n",
       "      <td>101.0</td>\n",
       "      <td>57.09</td>\n",
       "      <td>11.0</td>\n",
       "    </tr>\n",
       "    <tr>\n",
       "      <th>3348</th>\n",
       "      <td>41467.0</td>\n",
       "      <td>98.0</td>\n",
       "      <td>14.47</td>\n",
       "      <td>11.0</td>\n",
       "    </tr>\n",
       "    <tr>\n",
       "      <th>3349</th>\n",
       "      <td>41471.0</td>\n",
       "      <td>92.0</td>\n",
       "      <td>5.19</td>\n",
       "      <td>11.0</td>\n",
       "    </tr>\n",
       "    <tr>\n",
       "      <th>3350</th>\n",
       "      <td>41472.0</td>\n",
       "      <td>97.0</td>\n",
       "      <td>16.34</td>\n",
       "      <td>13.0</td>\n",
       "    </tr>\n",
       "    <tr>\n",
       "      <th>3351</th>\n",
       "      <td>41474.0</td>\n",
       "      <td>93.0</td>\n",
       "      <td>20.12</td>\n",
       "      <td>9.0</td>\n",
       "    </tr>\n",
       "  </tbody>\n",
       "</table>\n",
       "<p>3352 rows × 4 columns</p>\n",
       "</div>"
      ],
      "text/plain": [
       "         SEQN  Fasting Glucose (mg/dL)  Insulin (uU/mL)  \\\n",
       "0     31130.0                      NaN              NaN   \n",
       "1     31131.0                     90.0            10.03   \n",
       "2     31132.0                    157.0             8.99   \n",
       "3     31133.0                     84.0            11.27   \n",
       "4     31134.0                    100.0            14.51   \n",
       "...       ...                      ...              ...   \n",
       "3347  41465.0                    101.0            57.09   \n",
       "3348  41467.0                     98.0            14.47   \n",
       "3349  41471.0                     92.0             5.19   \n",
       "3350  41472.0                     97.0            16.34   \n",
       "3351  41474.0                     93.0            20.12   \n",
       "\n",
       "      Total length of 'food fast', hours  \n",
       "0                                   10.0  \n",
       "1                                   14.0  \n",
       "2                                   11.0  \n",
       "3                                   12.0  \n",
       "4                                   14.0  \n",
       "...                                  ...  \n",
       "3347                                11.0  \n",
       "3348                                11.0  \n",
       "3349                                11.0  \n",
       "3350                                13.0  \n",
       "3351                                 9.0  \n",
       "\n",
       "[3352 rows x 4 columns]"
      ]
     },
     "execution_count": 50,
     "metadata": {},
     "output_type": "execute_result"
    }
   ],
   "source": [
    "# make a new df of rel. col\n",
    "glu = glu[['SEQN', 'Fasting Glucose (mg/dL)', 'Insulin (uU/mL)', \"Total length of 'food fast', hours\"]]\n",
    "glu"
   ]
  },
  {
   "cell_type": "code",
   "execution_count": 56,
   "metadata": {},
   "outputs": [
    {
     "data": {
      "text/plain": [
       "64.0"
      ]
     },
     "execution_count": 56,
     "metadata": {},
     "output_type": "execute_result"
    }
   ],
   "source": [
    "glu[\"Total length of 'food fast', hours\"].max()"
   ]
  },
  {
   "cell_type": "code",
   "execution_count": 59,
   "metadata": {},
   "outputs": [
    {
     "data": {
      "text/plain": [
       "5.397605346934028e-79"
      ]
     },
     "execution_count": 59,
     "metadata": {},
     "output_type": "execute_result"
    }
   ],
   "source": [
    "glu[\"Total length of 'food fast', hours\"].min()"
   ]
  },
  {
   "attachments": {},
   "cell_type": "markdown",
   "metadata": {},
   "source": [
    "---\n",
    "## summary correlation"
   ]
  },
  {
   "cell_type": "code",
   "execution_count": 53,
   "metadata": {},
   "outputs": [
    {
     "data": {
      "text/plain": [
       "<seaborn.axisgrid.PairGrid at 0x7fa990766c40>"
      ]
     },
     "execution_count": 53,
     "metadata": {},
     "output_type": "execute_result"
    },
    {
     "data": {
      "image/png": "[encoded data removed]",
      "text/plain": [
       "<Figure size 1260x1260 with 56 Axes>"
      ]
     },
     "metadata": {
      "needs_background": "light"
     },
     "output_type": "display_data"
    }
   ],
   "source": [
    "sns.pairplot(exam_df[['Total cholesterol (mg/dL)',\n",
    "       'Direct HDL-Cholesterol (mg/dL)', 'Triglyceride (mg/dL)',\n",
    "       'LDL-cholesterol (mg/dL)', 'Apolipoprotein (B) (mg/dL)',\n",
    "       'Glycohemoglobin (%)', 'C-reactive protein(mg/dL)']], diag_kind='kde', kind='hist')"
   ]
  },
  {
   "cell_type": "code",
   "execution_count": null,
   "metadata": {},
   "outputs": [],
   "source": []
  }
 ],
 "metadata": {
  "kernelspec": {
   "display_name": "pythondata",
   "language": "python",
   "name": "python3"
  },
  "language_info": {
   "codemirror_mode": {
    "name": "ipython",
    "version": 3
   },
   "file_extension": ".py",
   "mimetype": "text/x-python",
   "name": "python",
   "nbconvert_exporter": "python",
   "pygments_lexer": "ipython3",
   "version": "3.9.12"
  },
  "orig_nbformat": 4
 },
 "nbformat": 4,
 "nbformat_minor": 2
}
